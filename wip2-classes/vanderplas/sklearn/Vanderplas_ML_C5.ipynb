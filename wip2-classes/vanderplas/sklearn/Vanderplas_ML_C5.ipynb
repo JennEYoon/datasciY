{
 "cells": [
  {
   "cell_type": "markdown",
   "metadata": {},
   "source": [
    "# Vanderplas ML Chp5\n",
    "### April 15, 2019 start, Jennifer Yoon"
   ]
  },
  {
   "cell_type": "markdown",
   "metadata": {},
   "source": [
    "Practice notebook, exercises in Chapter 5.\n",
    "Longer intro paragraph here later."
   ]
  },
  {
   "cell_type": "code",
   "execution_count": 19,
   "metadata": {},
   "outputs": [],
   "source": [
    "#  Import standard packages.  #  \n",
    "import numpy as np\n",
    "import pandas as pd\n",
    "import matplotlib.pyplot as plt\n",
    "import seaborn as sns\n",
    "%matplotlib inline"
   ]
  },
  {
   "cell_type": "code",
   "execution_count": 20,
   "metadata": {},
   "outputs": [],
   "source": [
    "#  Import unique package for machine learning.  #\n",
    "from sklearn.linear_model import LinearRegression "
   ]
  },
  {
   "cell_type": "markdown",
   "metadata": {},
   "source": [
    "In Scikit-Learn, every class of model is represented as a Python class object."
   ]
  },
  {
   "cell_type": "markdown",
   "metadata": {},
   "source": [
    "### Data Step\n",
    "Load Data"
   ]
  },
  {
   "cell_type": "code",
   "execution_count": 21,
   "metadata": {},
   "outputs": [],
   "source": [
    "#  Import google finance client to download stock prices.  #\n",
    "from googlefinance.client import get_price_data, get_prices_data, get_prices_time_data"
   ]
  },
  {
   "cell_type": "code",
   "execution_count": 22,
   "metadata": {},
   "outputs": [
    {
     "name": "stdout",
     "output_type": "stream",
     "text": [
      "Empty DataFrame\n",
      "Columns: [Open, High, Low, Close, Volume]\n",
      "Index: []\n"
     ]
    }
   ],
   "source": [
    "#  stock prices: Amazon-AMZN, Costco-COST, Apple-AAPL  #\n",
    "\n",
    "param = {\n",
    "    'q':\"AMZN\",\n",
    "    'i': \"86400\", # Interval size in seconds, 1 day is 86400 sec.\n",
    "    'x': \"NASD\", # Stock exchange name.\n",
    "    'p': \"5Y\", # Period, 5 years.\n",
    "}\n",
    "\n",
    "#  get_price_data returns pandas dataframe.  #\n",
    "df1 = get_price_data(param)\n",
    "print(df1)"
   ]
  },
  {
   "cell_type": "code",
   "execution_count": 23,
   "metadata": {},
   "outputs": [
    {
     "name": "stdout",
     "output_type": "stream",
     "text": [
      "Empty DataFrame\n",
      "Columns: [Open, High, Low, Close, Volume]\n",
      "Index: []\n"
     ]
    }
   ],
   "source": [
    "from googlefinance.client import get_price_data, get_prices_data, get_prices_time_data\n",
    "\n",
    "# Dow Jones\n",
    "param = {\n",
    "    'q': \".DJI\", # Stock symbol (ex: \"AAPL\")\n",
    "    'i': \"86400\", # Interval size in seconds (\"86400\" = 1 day intervals)\n",
    "    'x': \"INDEXDJX\", # Stock exchange symbol on which stock is traded (ex: \"NASD\")\n",
    "    'p': \"1Y\" # Period (Ex: \"1Y\" = 1 year)\n",
    "}\n",
    "# get price data (return pandas dataframe)\n",
    "df = get_price_data(param)\n",
    "print(df)"
   ]
  },
  {
   "cell_type": "code",
   "execution_count": 24,
   "metadata": {},
   "outputs": [
    {
     "name": "stdout",
     "output_type": "stream",
     "text": [
      "Empty DataFrame\n",
      "Columns: [.DJI_Open, .DJI_High, .DJI_Low, .DJI_Close, .DJI_Volume, NYA_Open, NYA_High, NYA_Low, NYA_Close, NYA_Volume, .INX_Open, .INX_High, .INX_Low, .INX_Close, .INX_Volume]\n",
      "Index: []\n"
     ]
    }
   ],
   "source": [
    "params = [\n",
    "    # Dow Jones\n",
    "    {\n",
    "        'q': \".DJI\",\n",
    "        'x': \"INDEXDJX\",\n",
    "    },\n",
    "    # NYSE COMPOSITE (DJ)\n",
    "    {\n",
    "        'q': \"NYA\",\n",
    "        'x': \"INDEXNYSEGIS\",\n",
    "    },\n",
    "    # S&P 500\n",
    "    {\n",
    "        'q': \".INX\",\n",
    "        'x': \"INDEXSP\",\n",
    "    }\n",
    "]\n",
    "period = \"1Y\"\n",
    "interval = 60*30 # 30 minutes\n",
    "# get open, high, low, close, volume time data (return pandas dataframe)\n",
    "df = get_prices_time_data(params, period, interval)\n",
    "print(df)\n",
    "\n"
   ]
  },
  {
   "cell_type": "code",
   "execution_count": null,
   "metadata": {},
   "outputs": [],
   "source": [
    "#file = http://www.google.com/finance/historical?q=GOOGL&output=csv"
   ]
  },
  {
   "cell_type": "code",
   "execution_count": null,
   "metadata": {},
   "outputs": [],
   "source": []
  },
  {
   "cell_type": "code",
   "execution_count": 25,
   "metadata": {},
   "outputs": [
    {
     "ename": "NameError",
     "evalue": "name 'GOOGLEFINANCE' is not defined",
     "output_type": "error",
     "traceback": [
      "\u001b[1;31m---------------------------------------------------------------------------\u001b[0m",
      "\u001b[1;31mNameError\u001b[0m                                 Traceback (most recent call last)",
      "\u001b[1;32m<ipython-input-25-2fa186683f7d>\u001b[0m in \u001b[0;36m<module>\u001b[1;34m()\u001b[0m\n\u001b[1;32m----> 1\u001b[1;33m \u001b[0mdata\u001b[0m \u001b[1;33m=\u001b[0m \u001b[0mGOOGLEFINANCE\u001b[0m\u001b[1;33m(\u001b[0m\u001b[1;34m\"GOOG\"\u001b[0m\u001b[1;33m,\u001b[0m \u001b[1;34m\"price\"\u001b[0m\u001b[1;33m,\u001b[0m \u001b[0mDATE\u001b[0m\u001b[1;33m(\u001b[0m\u001b[1;36m2014\u001b[0m\u001b[1;33m,\u001b[0m\u001b[1;36m1\u001b[0m\u001b[1;33m,\u001b[0m\u001b[1;36m1\u001b[0m\u001b[1;33m)\u001b[0m\u001b[1;33m,\u001b[0m \u001b[0mDATE\u001b[0m\u001b[1;33m(\u001b[0m\u001b[1;36m2014\u001b[0m\u001b[1;33m,\u001b[0m\u001b[1;36m12\u001b[0m\u001b[1;33m,\u001b[0m\u001b[1;36m31\u001b[0m\u001b[1;33m)\u001b[0m\u001b[1;33m,\u001b[0m \u001b[1;34m\"DAILY\"\u001b[0m\u001b[1;33m)\u001b[0m\u001b[1;33m\u001b[0m\u001b[0m\n\u001b[0m",
      "\u001b[1;31mNameError\u001b[0m: name 'GOOGLEFINANCE' is not defined"
     ]
    }
   ],
   "source": [
    "#data = GOOGLEFINANCE(\"GOOG\", \"price\", DATE(2014,1,1), DATE(2014,12,31), \"DAILY\")"
   ]
  },
  {
   "cell_type": "markdown",
   "metadata": {},
   "source": [
    "####  Fix Google data later.  API discontinued in 2012.  Alternatives available."
   ]
  },
  {
   "cell_type": "markdown",
   "metadata": {},
   "source": [
    "###  Load data from Yahoo Finance, manually downloaded 1 year daily historical data, \n",
    "####  April-15-2018 to April-15-2019."
   ]
  },
  {
   "cell_type": "code",
   "execution_count": 32,
   "metadata": {},
   "outputs": [
    {
     "name": "stdout",
     "output_type": "stream",
     "text": [
      " Volume in drive C is OS\n",
      " Volume Serial Number is 282F-8C4D\n",
      "\n",
      " Directory of c:\\python\\vanderplas\\notebooks\\data\n",
      "\n",
      "04/15/2019  05:27 PM    <DIR>          .\n",
      "04/15/2019  05:27 PM    <DIR>          ..\n",
      "04/15/2019  05:27 PM             1,318 10TR2019.csv\n",
      "04/15/2019  05:14 PM             1,780 AMZN2019.csv\n",
      "01/12/2018  12:06 PM           234,945 BicycleWeather.csv\n",
      "01/12/2018  12:06 PM           264,648 births.csv\n",
      "01/12/2018  12:06 PM            59,658 california_cities.csv\n",
      "04/15/2019  05:15 PM             1,670 COST2019.csv\n",
      "04/15/2019  05:15 PM             1,771 GOOG2019.csv\n",
      "04/15/2019  05:16 PM             1,692 MSFT2019.csv\n",
      "01/12/2018  12:06 PM               988 president_heights.csv\n",
      "01/12/2018  12:06 PM            45,122 Seattle2014.csv\n",
      "04/15/2019  05:20 PM             1,846 SPX2019.csv\n",
      "01/12/2018  12:06 PM               872 state-abbrevs.csv\n",
      "01/12/2018  12:06 PM               835 state-areas.csv\n",
      "01/12/2018  12:06 PM            57,935 state-population.csv\n",
      "04/15/2019  05:18 PM             1,560 TMUS2019.csv\n",
      "04/15/2019  05:18 PM             1,677 TSLA2019.csv\n",
      "04/15/2019  05:16 PM             1,575 WMT2019.csv\n",
      "              17 File(s)        679,892 bytes\n",
      "               2 Dir(s)  39,701,184,512 bytes free\n"
     ]
    }
   ],
   "source": [
    "!dir data"
   ]
  },
  {
   "cell_type": "code",
   "execution_count": 31,
   "metadata": {},
   "outputs": [
    {
     "name": "stdout",
     "output_type": "stream",
     "text": [
      " Volume in drive C is OS\n",
      " Volume Serial Number is 282F-8C4D\n",
      "\n",
      " Directory of c:\\python\\vanderplas\\notebooks\n",
      "\n",
      "04/15/2019  05:35 PM    <DIR>          .\n",
      "04/15/2019  05:35 PM    <DIR>          ..\n",
      "04/15/2019  03:34 PM    <DIR>          .ipynb_checkpoints\n",
      "01/12/2018  12:06 PM            13,362 00.00-Preface.ipynb\n",
      "01/12/2018  12:06 PM             7,834 01.00-IPython-Beyond-Normal-Python.ipynb\n",
      "01/12/2018  12:06 PM            14,784 01.01-Help-And-Documentation.ipynb\n",
      "01/12/2018  12:06 PM             9,889 01.02-Shell-Keyboard-Shortcuts.ipynb\n",
      "01/12/2018  12:06 PM             9,226 01.03-Magic-Commands.ipynb\n",
      "01/12/2018  12:06 PM             8,408 01.04-Input-Output-History.ipynb\n",
      "01/12/2018  12:06 PM            10,845 01.05-IPython-And-Shell-Commands.ipynb\n",
      "01/12/2018  12:06 PM            20,528 01.06-Errors-and-Debugging.ipynb\n",
      "01/12/2018  12:06 PM            18,599 01.07-Timing-and-Profiling.ipynb\n",
      "01/12/2018  12:06 PM             4,901 01.08-More-IPython-Resources.ipynb\n",
      "06/02/2018  06:14 PM             6,421 02.00-Introduction-to-NumPy.ipynb\n",
      "01/12/2018  12:06 PM            23,253 02.01-Understanding-Data-Types.ipynb\n",
      "01/12/2018  12:06 PM            32,844 02.02-The-Basics-Of-NumPy-Arrays.ipynb\n",
      "01/12/2018  12:06 PM            31,399 02.03-Computation-on-arrays-ufuncs.ipynb\n",
      "01/12/2018  12:06 PM            30,700 02.04-Computation-on-arrays-aggregates.ipynb\n",
      "01/12/2018  12:06 PM           101,551 02.05-Computation-on-arrays-broadcasting.ipynb\n",
      "01/12/2018  12:06 PM            40,494 02.06-Boolean-Arrays-and-Masks.ipynb\n",
      "01/12/2018  12:06 PM            62,360 02.07-Fancy-Indexing.ipynb\n",
      "01/12/2018  12:06 PM            61,603 02.08-Sorting.ipynb\n",
      "01/12/2018  12:06 PM            16,591 02.09-Structured-Data-NumPy.ipynb\n",
      "01/12/2018  12:06 PM             6,409 03.00-Introduction-to-Pandas.ipynb\n",
      "01/12/2018  12:06 PM            39,448 03.01-Introducing-Pandas-Objects.ipynb\n",
      "01/12/2018  12:06 PM            40,650 03.02-Data-Indexing-and-Selection.ipynb\n",
      "01/12/2018  12:06 PM            26,937 03.03-Operations-in-Pandas.ipynb\n",
      "01/12/2018  12:06 PM            36,784 03.04-Missing-Values.ipynb\n",
      "01/12/2018  12:06 PM            70,501 03.05-Hierarchical-Indexing.ipynb\n",
      "01/12/2018  12:06 PM            46,838 03.06-Concat-And-Append.ipynb\n",
      "01/12/2018  12:06 PM           106,767 03.07-Merge-and-Join.ipynb\n",
      "01/12/2018  12:06 PM            78,597 03.08-Aggregation-and-Grouping.ipynb\n",
      "01/12/2018  12:06 PM           185,214 03.09-Pivot-Tables.ipynb\n",
      "01/12/2018  12:06 PM            41,610 03.10-Working-With-Strings.ipynb\n",
      "01/12/2018  12:06 PM           677,834 03.11-Working-with-Time-Series.ipynb\n",
      "01/12/2018  12:06 PM            30,485 03.12-Performance-Eval-and-Query.ipynb\n",
      "01/12/2018  12:06 PM             4,150 03.13-Further-Resources.ipynb\n",
      "06/09/2018  04:14 PM           100,324 04.00-Introduction-To-Matplotlib.ipynb\n",
      "01/12/2018  12:06 PM           295,438 04.01-Simple-Line-Plots.ipynb\n",
      "01/12/2018  12:06 PM           197,133 04.02-Simple-Scatter-Plots.ipynb\n",
      "01/12/2018  12:06 PM            47,132 04.03-Errorbars.ipynb\n",
      "01/12/2018  12:06 PM           497,063 04.04-Density-and-Contour-Plots.ipynb\n",
      "01/12/2018  12:06 PM           219,087 04.06-Customizing-Legends.ipynb\n",
      "01/12/2018  12:06 PM           434,728 04.07-Customizing-Colorbars.ipynb\n",
      "01/12/2018  12:06 PM           150,218 04.08-Multiple-Subplots.ipynb\n",
      "01/12/2018  12:06 PM           195,224 04.09-Text-and-Annotation.ipynb\n",
      "01/12/2018  12:06 PM           317,425 04.10-Customizing-Ticks.ipynb\n",
      "01/12/2018  12:06 PM           371,475 04.11-Settings-and-Stylesheets.ipynb\n",
      "01/12/2018  12:06 PM           662,033 04.12-Three-Dimensional-Plotting.ipynb\n",
      "01/12/2018  12:06 PM         2,737,066 04.13-Geographic-Data-With-Basemap.ipynb\n",
      "01/12/2018  12:06 PM         1,071,139 04.14-Visualization-With-Seaborn.ipynb\n",
      "01/12/2018  12:06 PM             5,140 04.15-Further-Resources.ipynb\n",
      "01/12/2018  12:06 PM             4,465 05.00-Machine-Learning.ipynb\n",
      "04/15/2019  03:29 PM            21,854 05.01-What-Is-Machine-Learning.ipynb\n",
      "04/15/2019  03:22 PM           385,063 05.02-Introducing-Scikit-Learn.ipynb\n",
      "01/12/2018  12:06 PM           211,065 05.03-Hyperparameters-and-Model-Validation.ipynb\n",
      "01/12/2018  12:06 PM            46,390 05.04-Feature-Engineering.ipynb\n",
      "01/12/2018  12:06 PM           260,958 05.05-Naive-Bayes.ipynb\n",
      "01/12/2018  12:06 PM           383,724 05.06-Linear-Regression.ipynb\n",
      "01/12/2018  12:06 PM         1,032,165 05.07-Support-Vector-Machines.ipynb\n",
      "01/12/2018  12:06 PM           485,165 05.08-Random-Forests.ipynb\n",
      "01/12/2018  12:06 PM           575,139 05.09-Principal-Component-Analysis.ipynb\n",
      "01/12/2018  12:06 PM         1,557,676 05.10-Manifold-Learning.ipynb\n",
      "01/12/2018  12:06 PM         2,106,916 05.11-K-Means.ipynb\n",
      "01/12/2018  12:06 PM         1,131,944 05.12-Gaussian-Mixtures.ipynb\n",
      "01/12/2018  12:06 PM           256,216 05.13-Kernel-Density-Estimation.ipynb\n",
      "01/12/2018  12:06 PM           566,086 05.14-Image-Features.ipynb\n",
      "01/12/2018  12:06 PM             5,907 05.15-Learning-More.ipynb\n",
      "01/12/2018  12:06 PM         1,840,710 06.00-Figure-Code.ipynb\n",
      "04/15/2019  05:27 PM    <DIR>          data\n",
      "06/02/2018  05:02 PM    <DIR>          figures\n",
      "01/12/2018  12:06 PM             2,853 helpers_05_08.py\n",
      "01/12/2018  12:06 PM             6,644 Index.ipynb\n",
      "04/15/2019  03:31 PM               130 vanderplas-mlchp5.py\n",
      "04/15/2019  05:35 PM            13,766 Vanderplax_ML_C5.ipynb\n",
      "              70 File(s)     20,113,277 bytes\n",
      "               5 Dir(s)  39,701,295,104 bytes free\n"
     ]
    }
   ],
   "source": [
    "!dir"
   ]
  },
  {
   "cell_type": "code",
   "execution_count": null,
   "metadata": {},
   "outputs": [],
   "source": []
  },
  {
   "cell_type": "code",
   "execution_count": null,
   "metadata": {},
   "outputs": [],
   "source": []
  },
  {
   "cell_type": "code",
   "execution_count": null,
   "metadata": {},
   "outputs": [],
   "source": []
  }
 ],
 "metadata": {
  "kernelspec": {
   "display_name": "Python 3",
   "language": "python",
   "name": "python3"
  },
  "language_info": {
   "codemirror_mode": {
    "name": "ipython",
    "version": 3
   },
   "file_extension": ".py",
   "mimetype": "text/x-python",
   "name": "python",
   "nbconvert_exporter": "python",
   "pygments_lexer": "ipython3",
   "version": "3.6.5"
  }
 },
 "nbformat": 4,
 "nbformat_minor": 2
}
