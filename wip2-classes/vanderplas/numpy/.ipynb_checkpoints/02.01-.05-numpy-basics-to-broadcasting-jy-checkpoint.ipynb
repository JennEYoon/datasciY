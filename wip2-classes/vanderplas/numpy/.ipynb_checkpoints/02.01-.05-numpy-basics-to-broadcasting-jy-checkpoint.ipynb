{
 "cells": [
  {
   "cell_type": "markdown",
   "metadata": {},
   "source": [
    "# VanderPlas 02.01-.05, Numpy Basics to Broadcasting  \n",
    "\n",
    "Jennifer Yoon exercises.  Loosely based on Python Data Science Handbook by Jake VanderPlas.  \n",
    "Date:  9/3/2019\n"
   ]
  },
  {
   "cell_type": "code",
   "execution_count": 1,
   "metadata": {},
   "outputs": [],
   "source": [
    "import numpy as np\n",
    "import matplotlib.pyplot as plt\n",
    "%matplotlib inline"
   ]
  },
  {
   "cell_type": "code",
   "execution_count": 5,
   "metadata": {},
   "outputs": [
    {
     "data": {
      "text/plain": [
       "<module 'numpy' from 'C:\\\\python\\\\conda3\\\\envs\\\\pyfin\\\\lib\\\\site-packages\\\\numpy\\\\__init__.py'>"
      ]
     },
     "execution_count": 5,
     "metadata": {},
     "output_type": "execute_result"
    }
   ],
   "source": [
    "np\n",
    "# This notebook runs on conda environment named pyfin on Windows 10.  \n",
    "# Python v 3.7\n",
    "# Path: C:\\python\\conda3\\envs\\pyfin\\\n"
   ]
  },
  {
   "cell_type": "markdown",
   "metadata": {},
   "source": [
    "### 1. numpy documentation -  my notes   \n",
    "```\n",
    "Most numpy operations return a copy.   \n",
    "    np.sort(x)  \n",
    "In-place options exists for most operations.  \n",
    "    x = np.array([list]); x.sort()  \n",
    "```"
   ]
  },
  {
   "cell_type": "code",
   "execution_count": 41,
   "metadata": {},
   "outputs": [
    {
     "name": "stdout",
     "output_type": "stream",
     "text": [
      "[5 1 7 3 0] before\n",
      "[0 1 3 5 7] sorted copy\n",
      "[5 1 7 3 0] after, same as original\n"
     ]
    }
   ],
   "source": [
    "# Return a copy.\n",
    "x = np.array([5, 1, 7, 3, 0])\n",
    "print(x, \"before\")\n",
    "print(np.sort(x), \"sorted copy\")\n",
    "print(x, \"after, same as original\")"
   ]
  },
  {
   "cell_type": "code",
   "execution_count": 42,
   "metadata": {},
   "outputs": [
    {
     "name": "stdout",
     "output_type": "stream",
     "text": [
      "[5 1 7 3 0] before\n",
      "None in-place sorted\n",
      "[0 1 3 5 7] after\n"
     ]
    }
   ],
   "source": [
    "# Return in-place.\n",
    "print(x, \"before\")\n",
    "print(x.sort(), \"in-place sorted\")\n",
    "print(x, \"after\")"
   ]
  },
  {
   "cell_type": "code",
   "execution_count": 49,
   "metadata": {},
   "outputs": [
    {
     "name": "stdout",
     "output_type": "stream",
     "text": [
      "[9 1 8 2 0]\n",
      "int32 = original data type\n",
      "[9. 1. 8. 2. 0.] returns a copy\n",
      "[9 1 8 2 0] int32 y is back to original\n",
      "[9. 1. 8. 2. 0.] after y is replaced\n"
     ]
    }
   ],
   "source": [
    "# Change data type, return a copy.\n",
    "y = np.array([9, 1, 8, 2, 0])\n",
    "print(y)\n",
    "print(y.dtype, \"= original data type\")\n",
    "print(y.astype('float32'), \"returns a copy\")\n",
    "print(y, y.dtype, \"y is back to original\")\n",
    "# Change in-place data type.\n",
    "y = y.astype('float32')\n",
    "print(y, \"after y is replaced\")"
   ]
  },
  {
   "cell_type": "markdown",
   "metadata": {},
   "source": [
    "###  2. Create a rank 2 array from 1-dim vector.   \n",
    "\n",
    "np.array(range(10), ndmin=2)  # minimum dimension is two.  \n",
    "np.arange(start:stop:step).reshape((row, col))  \n",
    "x[np.newaxis, :] row vector of rank 2.  \n",
    "x[:, np.newaxis] column vector of rank 2.  \n"
   ]
  },
  {
   "cell_type": "code",
   "execution_count": 36,
   "metadata": {},
   "outputs": [
    {
     "name": "stdout",
     "output_type": "stream",
     "text": [
      "[[0 1 2 3 4 5 6 7 8 9]] original vector\n",
      "int32\n",
      "(1, 10)\n",
      "[[0]\n",
      " [1]\n",
      " [2]\n",
      " [3]\n",
      " [4]\n",
      " [5]\n",
      " [6]\n",
      " [7]\n",
      " [8]\n",
      " [9]] transposed vector\n"
     ]
    }
   ],
   "source": [
    "# Create a rank 2 vector, transpose of a vector.\n",
    "y = np.array(range(10), ndmin=2)\n",
    "print(y, \"original vector\")\n",
    "print(y.dtype)\n",
    "print(y.shape)\n",
    "print(y.T, \"transposed vector\") "
   ]
  },
  {
   "cell_type": "code",
   "execution_count": 60,
   "metadata": {},
   "outputs": [
    {
     "name": "stdout",
     "output_type": "stream",
     "text": [
      "[ 1  3  5  7  9 11 13 15 17 19] (10,) is one dimensional vector\n",
      "[ 1  3  5  7  9 11 13 15 17 19] transposed vector is the same row vector\n",
      "[[ 1  3  5  7  9 11 13 15 17 19]] (1, 10) rank 2 vector\n",
      "[[ 1]\n",
      " [ 3]\n",
      " [ 5]\n",
      " [ 7]\n",
      " [ 9]\n",
      " [11]\n",
      " [13]\n",
      " [15]\n",
      " [17]\n",
      " [19]] transposed is now a column\n"
     ]
    }
   ],
   "source": [
    "# Create a rank 2 array from 1-dim np.arange().\n",
    "vector = np.arange(1, 20, 2)\n",
    "print(vector, vector.shape, \"is one dimensional vector\")\n",
    "print(vector.T, \"transposed vector is the same row vector\")\n",
    "# Use reshape\n",
    "vector2r = vector.reshape(1, 10)\n",
    "print(vector2r, vector2r.shape, \"rank 2 vector\")\n",
    "print(vector2r.T, \"transposed is now a column\")"
   ]
  },
  {
   "cell_type": "code",
   "execution_count": 67,
   "metadata": {},
   "outputs": [
    {
     "name": "stdout",
     "output_type": "stream",
     "text": [
      "[10 13 16 19] (4,) one dimensional\n",
      "[[10 13 16 19]] (1, 4) 2d vector row\n",
      "[[10]\n",
      " [13]\n",
      " [16]\n",
      " [19]] (4, 1) 2d vector column\n"
     ]
    }
   ],
   "source": [
    "x = np.arange(10, 20, 3)\n",
    "print(x, x.shape, \"one dimensional\")\n",
    "# Row vector of rank 2 via newaxis.\n",
    "x2 = x[np.newaxis, :]\n",
    "print(x2, x2.shape, \"2d vector row\")\n",
    "# Column vector of ran 2 via newaxis.\n",
    "x3 = x[:, np.newaxis]\n",
    "print(x3, x3.shape, \"2d vector column\")"
   ]
  },
  {
   "cell_type": "markdown",
   "metadata": {},
   "source": [
    "### 3. numpy ufuncs  \n",
    "\n",
    "Universal Functions.  Element by element operation on an array.  \n"
   ]
  },
  {
   "cell_type": "code",
   "execution_count": 9,
   "metadata": {},
   "outputs": [
    {
     "name": "stdout",
     "output_type": "stream",
     "text": [
      "A: [1 2 3 4 5] <class 'numpy.ndarray'>\n",
      "B: [ 6  7  8  9 10] <class 'numpy.ndarray'> 5 <class 'int'>\n",
      "C: [5 5 5 5 5] <class 'numpy.ndarray'>\n",
      "D: [ 6  7  8  9 10] <class 'numpy.ndarray'>\n"
     ]
    }
   ],
   "source": [
    "import numpy as np  \n",
    "# Comment out if already ran import cell from above.\n",
    "\n",
    "A = np.arange(1, 6)\n",
    "print(\"A:\", A, type(A))\n",
    "\n",
    "# Broadcasting, 5 is expanded to [5, 5, 5] before adding.\n",
    "B = A + 5\n",
    "print(\"B:\", B, type(B), \"5\", type(5))\n",
    "\n",
    "# Proof that broadcasting is the same as expenading data.\n",
    "C = np.array([5,5,5,5,5])\n",
    "print(\"C:\", C, type(C))\n",
    "\n",
    "D = A + C\n",
    "print(\"D:\", D, type(D))"
   ]
  },
  {
   "cell_type": "markdown",
   "metadata": {},
   "source": [
    "###  4. Fancy Indexing  "
   ]
  },
  {
   "cell_type": "code",
   "execution_count": 11,
   "metadata": {},
   "outputs": [
    {
     "name": "stdout",
     "output_type": "stream",
     "text": [
      "['Tom' 'Harry']\n"
     ]
    }
   ],
   "source": [
    "import numpy as np\n",
    "mylist = [\"Mary\", \"Tom\", \"Harry\", \"Moe\"]\n",
    "A = np.array(mylist)\n",
    "ind = [1, 2]\n",
    "B = np.array(A[ind])\n",
    "print(B)"
   ]
  },
  {
   "cell_type": "code",
   "execution_count": null,
   "metadata": {},
   "outputs": [],
   "source": []
  }
 ],
 "metadata": {
  "kernelspec": {
   "display_name": "Python 3",
   "language": "python",
   "name": "python3"
  },
  "language_info": {
   "codemirror_mode": {
    "name": "ipython",
    "version": 3
   },
   "file_extension": ".py",
   "mimetype": "text/x-python",
   "name": "python",
   "nbconvert_exporter": "python",
   "pygments_lexer": "ipython3",
   "version": "3.7.3"
  }
 },
 "nbformat": 4,
 "nbformat_minor": 2
}
