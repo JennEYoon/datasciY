{
 "cells": [
  {
   "cell_type": "markdown",
   "metadata": {},
   "source": [
    "# JY-vanderplas-numpy\n",
    "date: 7/17/2019 1:14 AM  \n",
    "    duplicate knn 2D sample.\n",
    "    KNN starts on p88. (Part of nb S2.8 Sorting)  \n",
    "    \n",
    "## Sorting Arrays, nb S2.08, p.85 of VanderPlas  \n",
    "    insertion sort, selection sort, merge sort, quick sort, bubble sort, etc.    "
   ]
  },
  {
   "cell_type": "markdown",
   "metadata": {},
   "source": []
  },
  {
   "cell_type": "code",
   "execution_count": 1,
   "metadata": {},
   "outputs": [],
   "source": [
    "import numpy as np\n",
    "import matplotlib.pyplot as plt\n",
    "import pandas as pd\n",
    "%matplotlib inline"
   ]
  },
  {
   "cell_type": "code",
   "execution_count": 2,
   "metadata": {},
   "outputs": [
    {
     "data": {
      "text/plain": [
       "'1.16.4'"
      ]
     },
     "execution_count": 2,
     "metadata": {},
     "output_type": "execute_result"
    }
   ],
   "source": [
    "np\n",
    "# conda environment pyfin activated.\n",
    "np.__version__\n",
    "# '1.16.4'"
   ]
  },
  {
   "cell_type": "code",
   "execution_count": null,
   "metadata": {},
   "outputs": [],
   "source": []
  },
  {
   "cell_type": "code",
   "execution_count": null,
   "metadata": {},
   "outputs": [],
   "source": []
  },
  {
   "cell_type": "code",
   "execution_count": null,
   "metadata": {},
   "outputs": [],
   "source": []
  },
  {
   "cell_type": "markdown",
   "metadata": {},
   "source": [
    "## Creating Arrays, numpy"
   ]
  },
  {
   "cell_type": "code",
   "execution_count": 3,
   "metadata": {},
   "outputs": [
    {
     "name": "stdout",
     "output_type": "stream",
     "text": [
      "<class 'range'>\n",
      "range(0, 10)\n"
     ]
    }
   ],
   "source": [
    "# List object\n",
    "L = range(10)\n",
    "print(type(L))\n",
    "print(L)"
   ]
  },
  {
   "cell_type": "code",
   "execution_count": 4,
   "metadata": {},
   "outputs": [
    {
     "name": "stdout",
     "output_type": "stream",
     "text": [
      "[3, 1, 0, 7, 9]\n",
      "<class 'list'>\n"
     ]
    }
   ],
   "source": [
    "list1 = [3,1,0,7,9]\n",
    "print(list1)\n",
    "print(type(list1))"
   ]
  },
  {
   "cell_type": "code",
   "execution_count": 5,
   "metadata": {},
   "outputs": [
    {
     "data": {
      "text/plain": [
       "array([3, 1, 0, 7, 9])"
      ]
     },
     "execution_count": 5,
     "metadata": {},
     "output_type": "execute_result"
    }
   ],
   "source": [
    "arr1 = np.array(list1)\n",
    "arr1"
   ]
  },
  {
   "cell_type": "code",
   "execution_count": 6,
   "metadata": {},
   "outputs": [
    {
     "data": {
      "text/plain": [
       "[3, 1, 0, 7, 9, 11]"
      ]
     },
     "execution_count": 6,
     "metadata": {},
     "output_type": "execute_result"
    }
   ],
   "source": [
    "list1.append(11)\n",
    "list1\n",
    "# [3, 1, 0, 7, 9, 11, 11]"
   ]
  },
  {
   "cell_type": "code",
   "execution_count": 7,
   "metadata": {},
   "outputs": [
    {
     "data": {
      "text/plain": [
       "array([3, 1, 0, 7, 9])"
      ]
     },
     "execution_count": 7,
     "metadata": {},
     "output_type": "execute_result"
    }
   ],
   "source": [
    "arr1\n",
    "#  Makes a copy, new np object.\n",
    "#  Changes to list1 does not change np object.\n",
    "# array([3, 1, 0, 7, 9])"
   ]
  },
  {
   "cell_type": "code",
   "execution_count": 8,
   "metadata": {},
   "outputs": [
    {
     "data": {
      "text/plain": [
       "[3, 1, 0, 7, 9, 11, 3, 1, 0, 7, 9]"
      ]
     },
     "execution_count": 8,
     "metadata": {},
     "output_type": "execute_result"
    }
   ],
   "source": [
    "z = list1 + list(arr1)\n",
    "z"
   ]
  },
  {
   "cell_type": "code",
   "execution_count": 9,
   "metadata": {},
   "outputs": [],
   "source": [
    "arr1\n",
    "type(arr1)\n",
    "list2 = list1[0:5]"
   ]
  },
  {
   "cell_type": "code",
   "execution_count": 10,
   "metadata": {},
   "outputs": [
    {
     "data": {
      "text/plain": [
       "array([ 6,  2,  0, 14, 18])"
      ]
     },
     "execution_count": 10,
     "metadata": {},
     "output_type": "execute_result"
    }
   ],
   "source": [
    "arr2 = (arr1 + np.array(list2))\n",
    "arr2"
   ]
  },
  {
   "cell_type": "code",
   "execution_count": 11,
   "metadata": {},
   "outputs": [
    {
     "name": "stdout",
     "output_type": "stream",
     "text": [
      "[range(10, 16), range(20, 26), range(30, 36), range(40, 46)]\n",
      "<class 'list'>\n"
     ]
    }
   ],
   "source": [
    "list4 = [range(i, i+6) for i in [10, 20, 30, 40]]\n",
    "# creates list using built-in \"range() function.\"\n",
    "# start at i (10, 20,..), and stop at i+5 (15, 25, ...)\n",
    "print(list4)\n",
    "print(type(list4))"
   ]
  },
  {
   "cell_type": "code",
   "execution_count": 17,
   "metadata": {},
   "outputs": [],
   "source": [
    "list3 = list4"
   ]
  },
  {
   "cell_type": "code",
   "execution_count": 18,
   "metadata": {},
   "outputs": [
    {
     "data": {
      "text/plain": [
       "array([[10, 11, 12, 13, 14, 15],\n",
       "       [20, 21, 22, 23, 24, 25],\n",
       "       [30, 31, 32, 33, 34, 35],\n",
       "       [40, 41, 42, 43, 44, 45]])"
      ]
     },
     "execution_count": 18,
     "metadata": {},
     "output_type": "execute_result"
    }
   ],
   "source": [
    "np.array(list3)"
   ]
  },
  {
   "cell_type": "code",
   "execution_count": 19,
   "metadata": {},
   "outputs": [
    {
     "data": {
      "text/plain": [
       "array([[10, 11, 12, 13, 14, 15],\n",
       "       [20, 21, 22, 23, 24, 25],\n",
       "       [30, 31, 32, 33, 34, 35],\n",
       "       [40, 41, 42, 43, 44, 45]])"
      ]
     },
     "execution_count": 19,
     "metadata": {},
     "output_type": "execute_result"
    }
   ],
   "source": [
    "np.array(list4)"
   ]
  },
  {
   "cell_type": "code",
   "execution_count": 20,
   "metadata": {},
   "outputs": [
    {
     "data": {
      "text/plain": [
       "array([[20, 22, 24, 26, 28, 30],\n",
       "       [40, 42, 44, 46, 48, 50],\n",
       "       [60, 62, 64, 66, 68, 70],\n",
       "       [80, 82, 84, 86, 88, 90]])"
      ]
     },
     "execution_count": 20,
     "metadata": {},
     "output_type": "execute_result"
    }
   ],
   "source": [
    "sum3 = np.array(list3) + np.array(list4)\n",
    "sum3"
   ]
  },
  {
   "cell_type": "code",
   "execution_count": 21,
   "metadata": {},
   "outputs": [
    {
     "data": {
      "text/plain": [
       "array([[ 100,  121,  144,  169,  196,  225],\n",
       "       [ 400,  441,  484,  529,  576,  625],\n",
       "       [ 900,  961, 1024, 1089, 1156, 1225],\n",
       "       [1600, 1681, 1764, 1849, 1936, 2025]])"
      ]
     },
     "execution_count": 21,
     "metadata": {},
     "output_type": "execute_result"
    }
   ],
   "source": [
    "mul2 = np.array(list3) * np.array(list4)\n",
    "mul2"
   ]
  },
  {
   "cell_type": "code",
   "execution_count": null,
   "metadata": {},
   "outputs": [],
   "source": []
  },
  {
   "cell_type": "markdown",
   "metadata": {},
   "source": [
    "## np.zeros, np.ones, np.full, np.arange(start, stop, step)"
   ]
  },
  {
   "cell_type": "code",
   "execution_count": 24,
   "metadata": {},
   "outputs": [
    {
     "data": {
      "text/plain": [
       "array([0, 0, 0, 0, 0, 0, 0, 0, 0, 0])"
      ]
     },
     "execution_count": 24,
     "metadata": {},
     "output_type": "execute_result"
    }
   ],
   "source": [
    "arrz = np.zeros(10, dtype=int)\n",
    "arrz"
   ]
  },
  {
   "cell_type": "code",
   "execution_count": 26,
   "metadata": {},
   "outputs": [
    {
     "data": {
      "text/plain": [
       "array([[1., 1., 1., 1., 1.],\n",
       "       [1., 1., 1., 1., 1.],\n",
       "       [1., 1., 1., 1., 1.]], dtype=float32)"
      ]
     },
     "execution_count": 26,
     "metadata": {},
     "output_type": "execute_result"
    }
   ],
   "source": [
    "arrone = np.ones((3, 5), dtype='float32')\n",
    "arrone"
   ]
  },
  {
   "cell_type": "code",
   "execution_count": 33,
   "metadata": {},
   "outputs": [
    {
     "name": "stdout",
     "output_type": "stream",
     "text": [
      "3.141592653589793\n",
      "[[3.1415927 3.1415927 3.1415927 3.1415927 3.1415927 3.1415927]\n",
      " [3.1415927 3.1415927 3.1415927 3.1415927 3.1415927 3.1415927]\n",
      " [3.1415927 3.1415927 3.1415927 3.1415927 3.1415927 3.1415927]\n",
      " [3.1415927 3.1415927 3.1415927 3.1415927 3.1415927 3.1415927]]\n"
     ]
    }
   ],
   "source": [
    "import math\n",
    "print(math.pi)\n",
    "arrfull = np.full((4, 6), math.pi, dtype='float32')\n",
    "print(arrfull)"
   ]
  },
  {
   "cell_type": "code",
   "execution_count": 34,
   "metadata": {},
   "outputs": [
    {
     "name": "stdout",
     "output_type": "stream",
     "text": [
      "[[3.14159 3.14159 3.14159]\n",
      " [3.14159 3.14159 3.14159]\n",
      " [3.14159 3.14159 3.14159]]\n"
     ]
    }
   ],
   "source": [
    "arrfull2 = np.full((3, 3), 3.14159, dtype=float)\n",
    "print(arrfull2)"
   ]
  },
  {
   "cell_type": "code",
   "execution_count": 35,
   "metadata": {},
   "outputs": [
    {
     "data": {
      "text/plain": [
       "array([ 0,  2,  4,  6,  8, 10, 12, 14, 16, 18])"
      ]
     },
     "execution_count": 35,
     "metadata": {},
     "output_type": "execute_result"
    }
   ],
   "source": [
    "# linear sequence\n",
    "np.arange(0, 20, 2)"
   ]
  },
  {
   "cell_type": "code",
   "execution_count": 36,
   "metadata": {},
   "outputs": [
    {
     "data": {
      "text/plain": [
       "array([[ 0,  1,  2,  3,  4],\n",
       "       [ 5,  6,  7,  8,  9],\n",
       "       [10, 11, 12, 13, 14]])"
      ]
     },
     "execution_count": 36,
     "metadata": {},
     "output_type": "execute_result"
    }
   ],
   "source": [
    "# reshape into 3 x 5.\n",
    "np.arange(15).reshape(3, 5)"
   ]
  },
  {
   "cell_type": "code",
   "execution_count": 37,
   "metadata": {},
   "outputs": [
    {
     "data": {
      "text/plain": [
       "array([  0.,  25.,  50.,  75., 100.])"
      ]
     },
     "execution_count": 37,
     "metadata": {},
     "output_type": "execute_result"
    }
   ],
   "source": [
    "# evenly spaced line, useful for x-axis.\n",
    "np.linspace(0, 100, 5)"
   ]
  },
  {
   "cell_type": "code",
   "execution_count": 38,
   "metadata": {},
   "outputs": [
    {
     "data": {
      "text/plain": [
       "array([0.  , 0.25, 0.5 , 0.75, 1.  ])"
      ]
     },
     "execution_count": 38,
     "metadata": {},
     "output_type": "execute_result"
    }
   ],
   "source": [
    "np.linspace(0, 1, 5)"
   ]
  },
  {
   "cell_type": "markdown",
   "metadata": {},
   "source": [
    "### random numbered array generator"
   ]
  },
  {
   "cell_type": "code",
   "execution_count": 40,
   "metadata": {},
   "outputs": [
    {
     "name": "stdout",
     "output_type": "stream",
     "text": [
      "2D:  [[0.31503752 0.71635529 0.0405571  0.01299294 0.58926139]\n",
      " [0.84328966 0.97591215 0.37428523 0.75756528 0.98676847]\n",
      " [0.05552297 0.39566296 0.2730506  0.40199142 0.63065369]]\n",
      "1D:  [0.2948853  0.12363901 0.03708783 0.17256779 0.50048843 0.452798\n",
      " 0.08999549 0.82133019 0.04131933 0.66712977 0.39777827 0.07909316\n",
      " 0.00581841 0.06535168 0.15446152 0.91723359 0.9622743  0.18278401\n",
      " 0.61637578 0.73462347]\n"
     ]
    }
   ],
   "source": [
    "# uniform distribution (0, 1).\n",
    "result = np.random.random((3, 5))\n",
    "print(\"2D: \", result)\n",
    "# single parenthesis for 1D.\n",
    "result2 = np.random.random(20)\n",
    "print(\"1D: \", result2)"
   ]
  },
  {
   "cell_type": "code",
   "execution_count": 42,
   "metadata": {},
   "outputs": [
    {
     "name": "stdout",
     "output_type": "stream",
     "text": [
      "[[[0.79686505 0.16743014]\n",
      "  [0.05813194 0.12990645]\n",
      "  [0.41562329 0.07125647]\n",
      "  [0.70901007 0.2379681 ]\n",
      "  [0.42440724 0.70801794]]\n",
      "\n",
      " [[0.67893188 0.79018752]\n",
      "  [0.82024173 0.82112997]\n",
      "  [0.81484076 0.4892616 ]\n",
      "  [0.2942677  0.9245694 ]\n",
      "  [0.68531772 0.82400766]]\n",
      "\n",
      " [[0.68369565 0.26566254]\n",
      "  [0.95398769 0.12694255]\n",
      "  [0.12892243 0.48144126]\n",
      "  [0.1310274  0.26250092]\n",
      "  [0.09956561 0.92822734]]\n",
      "\n",
      " [[0.48457188 0.55457117]\n",
      "  [0.45553356 0.65589051]\n",
      "  [0.56862649 0.09811512]\n",
      "  [0.89418867 0.43806025]\n",
      "  [0.5216787  0.39206504]]]\n"
     ]
    }
   ],
   "source": [
    "result3 = np.random.random(((4, 5, 2)))\n",
    "print(result3)"
   ]
  },
  {
   "cell_type": "code",
   "execution_count": 43,
   "metadata": {},
   "outputs": [
    {
     "name": "stdout",
     "output_type": "stream",
     "text": [
      "[[[[0.8696514  0.23209663 0.85389149 0.14007183 0.70186316]\n",
      "   [0.74757082 0.02806154 0.03697738 0.48415527 0.0930922 ]\n",
      "   [0.14860813 0.86718633 0.6460759  0.01997612 0.66955209]\n",
      "   [0.26445988 0.535115   0.63758994 0.49509107 0.75671355]]\n",
      "\n",
      "  [[0.66362063 0.30544758 0.11491333 0.8622364  0.21063314]\n",
      "   [0.45138326 0.21572956 0.31086463 0.42454032 0.20436546]\n",
      "   [0.35954299 0.7428318  0.68793619 0.96782539 0.97855823]\n",
      "   [0.93341759 0.65652675 0.29257141 0.2853523  0.85719152]]\n",
      "\n",
      "  [[0.05548086 0.56867696 0.14229185 0.86597055 0.31644431]\n",
      "   [0.56086596 0.11779504 0.89061696 0.75922434 0.74318457]\n",
      "   [0.87463691 0.80628447 0.3093479  0.44685683 0.95746057]\n",
      "   [0.04207852 0.8677439  0.03632989 0.49908177 0.56615681]]]\n",
      "\n",
      "\n",
      " [[[0.31563787 0.92924618 0.43861196 0.74812504 0.53056924]\n",
      "   [0.81020524 0.80410043 0.46613252 0.76872781 0.62024211]\n",
      "   [0.73773694 0.16220102 0.26845666 0.93562074 0.43130301]\n",
      "   [0.74494238 0.40580995 0.32999223 0.9558178  0.92080911]]\n",
      "\n",
      "  [[0.2545957  0.70603822 0.31831284 0.58239237 0.19148942]\n",
      "   [0.60114603 0.55065816 0.19459405 0.39501709 0.62151401]\n",
      "   [0.49179441 0.14698553 0.16862595 0.99672225 0.32494641]\n",
      "   [0.64778623 0.38284703 0.23335484 0.58202227 0.68333916]]\n",
      "\n",
      "  [[0.38420643 0.69158638 0.02856177 0.03910142 0.77064662]\n",
      "   [0.53087488 0.7182807  0.32389772 0.69743527 0.756563  ]\n",
      "   [0.15597694 0.30281137 0.88740403 0.44393646 0.06364695]\n",
      "   [0.07737099 0.09966955 0.05541087 0.06001208 0.30148197]]]]\n"
     ]
    }
   ],
   "source": [
    "result4 = np.random.random((((2, 3, 4, 5))))  \n",
    "# Outermost bracket, next inner bracket, next inner bracket (rows), no bracket (column data points).\n",
    "print(result4)"
   ]
  },
  {
   "cell_type": "code",
   "execution_count": 44,
   "metadata": {},
   "outputs": [
    {
     "data": {
      "text/plain": [
       "array([[-0.37848019,  0.65800455, -0.5371275 ,  0.15394308],\n",
       "       [-1.46979235, -0.88987903,  0.29696751,  0.01397883],\n",
       "       [ 0.43695764, -0.32447179,  0.55192596, -0.22843575]])"
      ]
     },
     "execution_count": 44,
     "metadata": {},
     "output_type": "execute_result"
    }
   ],
   "source": [
    "np.random.normal(0, 1, (3, 4))"
   ]
  },
  {
   "cell_type": "code",
   "execution_count": 46,
   "metadata": {},
   "outputs": [
    {
     "data": {
      "text/plain": [
       "array([[ 96.50536689, 101.29322073, 101.1587553 , 101.17739815,\n",
       "        101.48280804],\n",
       "       [ 97.10479084,  97.5134279 ,  97.58555352, 105.0600146 ,\n",
       "         96.49088169],\n",
       "       [103.38961159, 101.71692974, 103.44016687,  93.54023114,\n",
       "         97.95507993],\n",
       "       [ 97.91376868,  96.72616154, 106.30507311,  96.6025693 ,\n",
       "        101.29423374],\n",
       "       [106.48370877,  98.67566268,  96.13611825,  98.29495336,\n",
       "         98.66766171]])"
      ]
     },
     "execution_count": 46,
     "metadata": {},
     "output_type": "execute_result"
    }
   ],
   "source": [
    "np.random.normal(100, 3, (5, 5))"
   ]
  },
  {
   "cell_type": "code",
   "execution_count": 47,
   "metadata": {},
   "outputs": [],
   "source": [
    "np.random.random?"
   ]
  },
  {
   "cell_type": "code",
   "execution_count": 49,
   "metadata": {},
   "outputs": [
    {
     "data": {
      "text/plain": [
       "array([[3.74509097, 1.58690678, 3.27257222],\n",
       "       [4.11277956, 4.56625713, 1.96277307],\n",
       "       [1.0680932 , 3.14563573, 2.83044403]])"
      ]
     },
     "execution_count": 49,
     "metadata": {},
     "output_type": "execute_result"
    }
   ],
   "source": [
    "# To sample :math:`Unif[a, b), b > a` multiply\n",
    "# the output of `random_sample` by `(b-a)` and add `a`.\n",
    "#\n",
    "#  (b - a) * random_sample() + a\n",
    "\n",
    "# Sample [1, 5)\n",
    "result5 =  4 * np.random.random((3, 3)) + 1\n",
    "result5"
   ]
  },
  {
   "cell_type": "code",
   "execution_count": 50,
   "metadata": {},
   "outputs": [
    {
     "data": {
      "text/plain": [
       "array([[-3.16672505, -4.75076174,  2.50851333],\n",
       "       [ 4.50659805, -2.51615883, -2.63480349],\n",
       "       [ 3.70775742, -1.36556388,  0.25387405]])"
      ]
     },
     "execution_count": 50,
     "metadata": {},
     "output_type": "execute_result"
    }
   ],
   "source": [
    "# Sample [-5, 5)\n",
    "result6 =  10 * np.random.random((3, 3)) - 5\n",
    "result6"
   ]
  },
  {
   "cell_type": "code",
   "execution_count": 53,
   "metadata": {},
   "outputs": [
    {
     "name": "stdout",
     "output_type": "stream",
     "text": [
      "[[ -4   4  -4  -3  -4]\n",
      " [  5  -4  -4  -6   7]\n",
      " [  9  -8   4  -5   7]\n",
      " [  8 -10   3  -8   1]\n",
      " [  1   8   5   5   3]]\n",
      "9\n",
      "-10\n"
     ]
    }
   ],
   "source": [
    "# integer random\n",
    "result7 = np.random.randint(-10, 10, (5, 5))\n",
    "print(result7)\n",
    "print(result7.max())\n",
    "print(result7.min())"
   ]
  },
  {
   "cell_type": "code",
   "execution_count": 55,
   "metadata": {},
   "outputs": [
    {
     "data": {
      "text/plain": [
       "array([1.23780839e-311, 2.32210854e-322, 0.00000000e+000, 0.00000000e+000,\n",
       "       1.05699242e-307, 1.16095484e-028, 2.59345444e+161, 3.40219075e-110,\n",
       "       2.91237123e+257, 4.71294503e+257])"
      ]
     },
     "execution_count": 55,
     "metadata": {},
     "output_type": "execute_result"
    }
   ],
   "source": [
    "np.empty(10)\n"
   ]
  },
  {
   "cell_type": "code",
   "execution_count": 56,
   "metadata": {},
   "outputs": [
    {
     "data": {
      "text/plain": [
       "array([[1., 0., 0., 0., 0.],\n",
       "       [0., 1., 0., 0., 0.],\n",
       "       [0., 0., 1., 0., 0.],\n",
       "       [0., 0., 0., 1., 0.],\n",
       "       [0., 0., 0., 0., 1.]])"
      ]
     },
     "execution_count": 56,
     "metadata": {},
     "output_type": "execute_result"
    }
   ],
   "source": [
    "np.eye(5)"
   ]
  },
  {
   "cell_type": "code",
   "execution_count": 57,
   "metadata": {},
   "outputs": [
    {
     "data": {
      "text/plain": [
       "array([1., 1., 1., 1., 1.])"
      ]
     },
     "execution_count": 57,
     "metadata": {},
     "output_type": "execute_result"
    }
   ],
   "source": [
    "np.empty(5)"
   ]
  },
  {
   "cell_type": "code",
   "execution_count": null,
   "metadata": {},
   "outputs": [],
   "source": []
  }
 ],
 "metadata": {
  "kernelspec": {
   "display_name": "Python 3",
   "language": "python",
   "name": "python3"
  },
  "language_info": {
   "codemirror_mode": {
    "name": "ipython",
    "version": 3
   },
   "file_extension": ".py",
   "mimetype": "text/x-python",
   "name": "python",
   "nbconvert_exporter": "python",
   "pygments_lexer": "ipython3",
   "version": "3.7.3"
  }
 },
 "nbformat": 4,
 "nbformat_minor": 2
}
