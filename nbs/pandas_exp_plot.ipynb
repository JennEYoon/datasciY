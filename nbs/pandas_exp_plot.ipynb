{
 "cells": [
  {
   "cell_type": "markdown",
   "metadata": {
    "colab_type": "text",
    "id": "view-in-github"
   },
   "source": [
    "<a href=\"https://colab.research.google.com/github/JennEYoon/code/blob/main/_30days/pandas_exp_plot.ipynb\" target=\"_parent\"><img src=\"https://colab.research.google.com/assets/colab-badge.svg\" alt=\"Open In Colab\"/></a>"
   ]
  },
  {
   "cell_type": "code",
   "execution_count": 16,
   "metadata": {
    "id": "Ld-l-8ByBumu"
   },
   "outputs": [],
   "source": [
    "## Pandas practice, exponential plot  \n",
    "### on Colab, had working backend GUI for matplotlib\n",
    "\n",
    "### Works on C conda3 base env.  NOT work on Ubuntu, no GUI? "
   ]
  },
  {
   "cell_type": "code",
   "execution_count": 4,
   "metadata": {
    "id": "-RbuJZSK-9Mq"
   },
   "outputs": [],
   "source": [
    "import matplotlib.pyplot as plt\n",
    "import matplotlib\n",
    "import numpy as np\n",
    "from pandas import Series, DataFrame\n",
    "import pandas as pd"
   ]
  },
  {
   "cell_type": "code",
   "execution_count": 5,
   "metadata": {
    "colab": {
     "base_uri": "https://localhost:8080/",
     "height": 331
    },
    "id": "VZQ58eCD-z3i",
    "outputId": "2d5b21ea-1312-49ba-b9bd-abd201af576c"
   },
   "outputs": [
    {
     "data": {
      "text/html": [
       "<div>\n",
       "<style scoped>\n",
       "    .dataframe tbody tr th:only-of-type {\n",
       "        vertical-align: middle;\n",
       "    }\n",
       "\n",
       "    .dataframe tbody tr th {\n",
       "        vertical-align: top;\n",
       "    }\n",
       "\n",
       "    .dataframe thead th {\n",
       "        text-align: right;\n",
       "    }\n",
       "</style>\n",
       "<table border=\"1\" class=\"dataframe\">\n",
       "  <thead>\n",
       "    <tr style=\"text-align: right;\">\n",
       "      <th></th>\n",
       "      <th>x</th>\n",
       "      <th>e^x</th>\n",
       "    </tr>\n",
       "  </thead>\n",
       "  <tbody>\n",
       "    <tr>\n",
       "      <th>0</th>\n",
       "      <td>-3.0</td>\n",
       "      <td>0.049787</td>\n",
       "    </tr>\n",
       "    <tr>\n",
       "      <th>1</th>\n",
       "      <td>-2.0</td>\n",
       "      <td>0.135335</td>\n",
       "    </tr>\n",
       "    <tr>\n",
       "      <th>2</th>\n",
       "      <td>-1.0</td>\n",
       "      <td>0.367879</td>\n",
       "    </tr>\n",
       "    <tr>\n",
       "      <th>3</th>\n",
       "      <td>-0.5</td>\n",
       "      <td>0.606531</td>\n",
       "    </tr>\n",
       "    <tr>\n",
       "      <th>4</th>\n",
       "      <td>0.0</td>\n",
       "      <td>1.000000</td>\n",
       "    </tr>\n",
       "    <tr>\n",
       "      <th>5</th>\n",
       "      <td>0.5</td>\n",
       "      <td>1.648721</td>\n",
       "    </tr>\n",
       "    <tr>\n",
       "      <th>6</th>\n",
       "      <td>1.0</td>\n",
       "      <td>2.718282</td>\n",
       "    </tr>\n",
       "    <tr>\n",
       "      <th>7</th>\n",
       "      <td>2.0</td>\n",
       "      <td>7.389056</td>\n",
       "    </tr>\n",
       "    <tr>\n",
       "      <th>8</th>\n",
       "      <td>3.0</td>\n",
       "      <td>20.085537</td>\n",
       "    </tr>\n",
       "  </tbody>\n",
       "</table>\n",
       "</div>"
      ],
      "text/plain": [
       "     x        e^x\n",
       "0 -3.0   0.049787\n",
       "1 -2.0   0.135335\n",
       "2 -1.0   0.367879\n",
       "3 -0.5   0.606531\n",
       "4  0.0   1.000000\n",
       "5  0.5   1.648721\n",
       "6  1.0   2.718282\n",
       "7  2.0   7.389056\n",
       "8  3.0  20.085537"
      ]
     },
     "execution_count": 5,
     "metadata": {},
     "output_type": "execute_result"
    }
   ],
   "source": [
    "obj3 = Series([-3, -2, -1, -.5, 0, .5, 1, 2, 3])\n",
    "obj4 = Series(np.exp(obj3))\n",
    "df = DataFrame([obj3, obj4]).T\n",
    "df.columns =['x', 'e^x']\n",
    "df\n",
    "\n"
   ]
  },
  {
   "cell_type": "code",
   "execution_count": 6,
   "metadata": {
    "colab": {
     "base_uri": "https://localhost:8080/",
     "height": 353
    },
    "id": "hy1LjTaA_Cay",
    "outputId": "19adbb72-1c5e-405f-f143-a864379eb5f6"
   },
   "outputs": [
    {
     "data": {
      "text/plain": [
       "Text(0.5, 1.0, 'e, exponential')"
      ]
     },
     "execution_count": 6,
     "metadata": {},
     "output_type": "execute_result"
    },
    {
     "data": {
      "image/png": "[encoded data removed]",
      "text/plain": [
       "<Figure size 360x360 with 1 Axes>"
      ]
     },
     "metadata": {
      "needs_background": "light"
     },
     "output_type": "display_data"
    }
   ],
   "source": [
    "plt.figure(figsize=(5, 5))\n",
    "plt.plot(df['x'], df['e^x'], 'ro-')\n",
    "plt.title('e, exponential')"
   ]
  },
  {
   "cell_type": "code",
   "execution_count": 8,
   "metadata": {
    "id": "_AE8ik07Bl3l"
   },
   "outputs": [
    {
     "name": "stdout",
     "output_type": "stream",
     "text": [
      " Volume in drive C is OS\n",
      " Volume Serial Number is 2814-0321\n",
      "\n",
      " Directory of C:\\python\\repos\n",
      "\n",
      "02/08/2023  03:53 AM    <DIR>          .\n",
      "02/08/2023  03:53 AM    <DIR>          ..\n",
      "02/08/2023  03:53 AM    <DIR>          .ipynb_checkpoints\n",
      "02/07/2023  11:28 PM    <DIR>          .spyproject\n",
      "02/07/2023  11:28 PM    <DIR>          10sigmarisk2022\n",
      "02/07/2023  11:27 PM    <DIR>          aclImdb\n",
      "01/21/2022  02:35 PM        34,120,380 AIMA4.pdf\n",
      "02/07/2023  11:28 PM    <DIR>          chollet2_ch12_p1_c\n",
      "02/07/2023  11:28 PM    <DIR>          datasciY\n",
      "12/11/2021  04:07 PM        14,751,031 Deep Learning with Python 2nd Ed (2021).pdf\n",
      "01/11/2022  09:13 AM        15,816,157 Deep_Learning_Interviews_2021.00650.pdf\n",
      "02/07/2023  11:28 PM    <DIR>          DeFi-ml\n",
      "02/07/2023  11:28 PM    <DIR>          example-code-2e\n",
      "02/07/2023  11:28 PM    <DIR>          fastai-22\n",
      "02/07/2023  11:26 PM    <DIR>          fastai-blog\n",
      "09/15/2022  03:07 PM        43,983,162 fastbook-master.zip\n",
      "06/23/2022  11:28 PM            41,813 Google_Colab_Get_Files.png\n",
      "02/07/2023  11:28 PM    <DIR>          jennifer-yoon\n",
      "02/07/2023  11:26 PM    <DIR>          learn-ml\n",
      "06/24/2022  09:19 PM         3,396,087 matplotlib_cheatsheets.pdf\n",
      "02/08/2023  03:25 AM             3,004 pandas_ex1.py\n",
      "02/08/2023  03:53 AM            17,729 pandas_exp_plot.ipynb\n",
      "06/24/2022  09:00 PM               738 repos.txt\n",
      "02/07/2023  11:26 PM    <DIR>          _conference\n",
      "02/07/2023  11:26 PM    <DIR>          __notes\n",
      "               9 File(s)    112,130,101 bytes\n",
      "              16 Dir(s)  795,463,507,968 bytes free\n"
     ]
    }
   ],
   "source": [
    "!dir"
   ]
  },
  {
   "cell_type": "code",
   "execution_count": 9,
   "metadata": {},
   "outputs": [
    {
     "name": "stdout",
     "output_type": "stream",
     "text": [
      "Python 3.9.12\n"
     ]
    }
   ],
   "source": [
    "!python --version"
   ]
  },
  {
   "cell_type": "code",
   "execution_count": 10,
   "metadata": {},
   "outputs": [
    {
     "data": {
      "text/plain": [
       "<module 'numpy' from 'C:\\\\python\\\\conda3\\\\lib\\\\site-packages\\\\numpy\\\\__init__.py'>"
      ]
     },
     "execution_count": 10,
     "metadata": {},
     "output_type": "execute_result"
    }
   ],
   "source": [
    "np"
   ]
  },
  {
   "cell_type": "code",
   "execution_count": null,
   "metadata": {},
   "outputs": [],
   "source": []
  }
 ],
 "metadata": {
  "colab": {
   "authorship_tag": "ABX9TyMUAdqcTfQRRJuc6wQLy7OQ",
   "include_colab_link": true,
   "provenance": []
  },
  "kernelspec": {
   "display_name": "Python 3 (ipykernel)",
   "language": "python",
   "name": "python3"
  },
  "language_info": {
   "codemirror_mode": {
    "name": "ipython",
    "version": 3
   },
   "file_extension": ".py",
   "mimetype": "text/x-python",
   "name": "python",
   "nbconvert_exporter": "python",
   "pygments_lexer": "ipython3",
   "version": "3.9.12"
  }
 },
 "nbformat": 4,
 "nbformat_minor": 1
}
