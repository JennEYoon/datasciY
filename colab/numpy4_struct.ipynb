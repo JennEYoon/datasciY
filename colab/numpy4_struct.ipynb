{
  "nbformat": 4,
  "nbformat_minor": 0,
  "metadata": {
    "colab": {
      "name": "numpy4_struct.ipynb",
      "provenance": [],
      "include_colab_link": true
    },
    "kernelspec": {
      "name": "python3",
      "display_name": "Python 3"
    },
    "language_info": {
      "name": "python"
    }
  },
  "cells": [
    {
      "cell_type": "markdown",
      "metadata": {
        "id": "view-in-github",
        "colab_type": "text"
      },
      "source": [
        "<a href=\"https://colab.research.google.com/github/JennEYoon/code/blob/main/current/numpy4_struct.ipynb\" target=\"_parent\"><img src=\"https://colab.research.google.com/assets/colab-badge.svg\" alt=\"Open In Colab\"/></a>"
      ]
    },
    {
      "cell_type": "markdown",
      "source": [
        "### Quick Practice, numpy4, structured array  "
      ],
      "metadata": {
        "id": "nRKg6fV8g0bw"
      }
    },
    {
      "cell_type": "code",
      "execution_count": null,
      "metadata": {
        "colab": {
          "base_uri": "https://localhost:8080/"
        },
        "id": "N_pgEhaLgrH5",
        "outputId": "6a5d97b4-a48c-4fe1-f78b-2b74aa28b351"
      },
      "outputs": [
        {
          "output_type": "execute_result",
          "data": {
            "text/plain": [
              "<module 'numpy' from '/usr/local/lib/python3.7/dist-packages/numpy/__init__.py'>"
            ]
          },
          "metadata": {},
          "execution_count": 1
        }
      ],
      "source": [
        "# numpy4, quick practice  \n",
        "# Structured Arrays in numpy  \n",
        "# Data start Jan 18, 2022 1:30 pm  \n",
        "# 4:30 pm restart, 7 pm stop  \n",
        "# Github repo: \"code\" folder \"current\" file \"numpy4_structured.py\"  \n",
        "\n",
        "import numpy as np \n",
        "np"
      ]
    },
    {
      "cell_type": "code",
      "source": [
        "# Structured Array data type  \n",
        "# Only data type that can have strings in a numpy cell.\n",
        "            \n",
        "data = {'person':['Mary', \"Jisoo\", \"Kevin\", \"Craig\"], \n",
        "        'weight':[125.5, 105.3, 163.2, 180.9], \n",
        "        'id':[101, 102, 55, 56]}\n",
        "print(data, type(data))"
      ],
      "metadata": {
        "colab": {
          "base_uri": "https://localhost:8080/"
        },
        "id": "HoehEwxvg2Tu",
        "outputId": "e8c37976-d257-4838-8a82-4616a5336fa4"
      },
      "execution_count": null,
      "outputs": [
        {
          "output_type": "stream",
          "name": "stdout",
          "text": [
            "{'person': ['Mary', 'Jisoo', 'Kevin', 'Craig'], 'weight': [125.5, 105.3, 163.2, 180.9], 'id': [101, 102, 55, 56]} <class 'dict'>\n"
          ]
        }
      ]
    },
    {
      "cell_type": "code",
      "source": [
        "# mat = np.structured(data=data, dtype={'person': 'string', 'age':'float16', 'id':'uint'})     \n",
        "# Not sure about name of function for structured array  \n",
        "# Not sure about format      \n",
        "\n",
        "# First create an empty container with compound data types\n",
        "# Then fill with data, each item is a list.\n",
        "\n",
        "tp = np.dtype({'names':('person', 'weight', 'id'), 'formats':('U10', 'f8', 'u1')})\n",
        "# had extra =.  tp = np.dtype=(...)  Redefined all dtypes into this one custome type!\n",
        "# each items are tuples, so ( ) and not list [ ]\n",
        "X = np.zeros(4, dtype=tp) \n",
        "# 4 rows, each with 3 columns  \n",
        "print(X, type(X), '\\n')\n",
        "\n",
        "X['person'] = data['person']\n",
        "X['weight'] = data['weight']\n",
        "X['id'] = data['id']\n",
        "print(X, type(X), '\\n')\n",
        "\n",
        "print(\"4th record: \", X[3], \"Name: \", X[3]['person'])"
      ],
      "metadata": {
        "colab": {
          "base_uri": "https://localhost:8080/"
        },
        "id": "zWkZv2Hlg2Wu",
        "outputId": "2131620f-3e52-400e-f202-6919bec73792"
      },
      "execution_count": null,
      "outputs": [
        {
          "output_type": "stream",
          "name": "stdout",
          "text": [
            "[('', 0., 0) ('', 0., 0) ('', 0., 0) ('', 0., 0)] <class 'numpy.ndarray'> \n",
            "\n",
            "[('Mary', 125.5, 101) ('Jisoo', 105.3, 102) ('Kevin', 163.2,  55)\n",
            " ('Craig', 180.9,  56)] <class 'numpy.ndarray'> \n",
            "\n",
            "4th record:  ('Craig', 180.9, 56) Name:  Craig\n"
          ]
        }
      ]
    },
    {
      "cell_type": "code",
      "source": [
        ""
      ],
      "metadata": {
        "id": "f9Rpq_IOdpag"
      },
      "execution_count": null,
      "outputs": []
    },
    {
      "cell_type": "code",
      "source": [
        "# Try in one go  \n",
        "Y = np.array(data)\n",
        "print(Y, type(Y))\n",
        "# Somehow it remembered custom dtype and applied it.  \n",
        "# OK, the new dtype is in memory, as a current run-time variable.  "
      ],
      "metadata": {
        "colab": {
          "base_uri": "https://localhost:8080/"
        },
        "id": "r7zEtZ5il_nB",
        "outputId": "fc3d268b-c5bd-4263-851a-e5c05d6e1ef7"
      },
      "execution_count": null,
      "outputs": [
        {
          "output_type": "stream",
          "name": "stdout",
          "text": [
            "{'person': ['Mary', 'Jisoo', 'Kevin', 'Craig'], 'weight': [125.5, 105.3, 163.2, 180.9], 'id': [101, 102, 55, 56]} <class 'numpy.ndarray'>\n"
          ]
        }
      ]
    },
    {
      "cell_type": "code",
      "source": [
        "# original data, still in dictionary type\n",
        "print(data, type(data))"
      ],
      "metadata": {
        "id": "JIppfAHJHqeU",
        "outputId": "246a86e9-f761-436c-8bcf-fcc2698576f7",
        "colab": {
          "base_uri": "https://localhost:8080/"
        }
      },
      "execution_count": null,
      "outputs": [
        {
          "output_type": "stream",
          "name": "stdout",
          "text": [
            "{'person': ['Mary', 'Jisoo', 'Kevin', 'Craig'], 'weight': [125.5, 105.3, 163.2, 180.9], 'id': [101, 102, 55, 56]} <class 'dict'>\n"
          ]
        }
      ]
    },
    {
      "cell_type": "code",
      "source": [
        ""
      ],
      "metadata": {
        "id": "kGr2bnmWQYEt"
      },
      "execution_count": null,
      "outputs": []
    },
    {
      "cell_type": "markdown",
      "source": [
        "### Need to restart runtime, No, extra \"=\" in definition \n",
        "\n",
        "Can't figure out how to clear memory of new data type, np.dtype=None does not work.  \n",
        "All future numpy operations expect the new data type, np.dtype.  "
      ],
      "metadata": {
        "id": "kzUPN-ECWCEp"
      }
    },
    {
      "cell_type": "code",
      "source": [
        "import numpy as np\n",
        "\n",
        "# Second structured array\n",
        "tp2 = np.dtype({'names':('states', 'ab', 'incomes', 'num'), 'formats':('U10', 'U4', 'i4', 'f8')})\n",
        "Z = np.zeros(4, dtype=tp2)\n",
        "Z"
      ],
      "metadata": {
        "id": "lF2jtMl1l_tk",
        "outputId": "e3b01de8-a3de-4093-dbe8-f13afd3b1447",
        "colab": {
          "base_uri": "https://localhost:8080/"
        }
      },
      "execution_count": null,
      "outputs": [
        {
          "output_type": "execute_result",
          "data": {
            "text/plain": [
              "array([('', '', 0, 0.), ('', '', 0, 0.), ('', '', 0, 0.), ('', '', 0, 0.)],\n",
              "      dtype=[('states', '<U10'), ('ab', '<U4'), ('incomes', '<i4'), ('num', '<f8')])"
            ]
          },
          "metadata": {},
          "execution_count": 6
        }
      ]
    },
    {
      "cell_type": "code",
      "source": [
        "# Define another structured numpy array  \n",
        "states = ['Colorado', 'Virginia', 'Maryland', 'Alaska']\n",
        "ab = ['CO', 'VA', 'MD', 'AL']\n",
        "incomes = [103000, 130000, 115999, 56000]\n",
        "\n",
        "ranks = [3, 1, 2, 4]\n",
        "rng = np.random.seed(100)\n",
        "num = np.random.random(4)\n",
        "print(num)"
      ],
      "metadata": {
        "id": "dq0mzpbNIRaP",
        "outputId": "3e640bf2-5029-4fc2-d3fc-e1a40129613e",
        "colab": {
          "base_uri": "https://localhost:8080/"
        }
      },
      "execution_count": null,
      "outputs": [
        {
          "output_type": "stream",
          "name": "stdout",
          "text": [
            "[0.54340494 0.27836939 0.42451759 0.84477613]\n"
          ]
        }
      ]
    },
    {
      "cell_type": "code",
      "source": [
        "Z['states'] = states\n",
        "Z['ab'] = ab\n",
        "Z['incomes'] = incomes\n",
        "Z['num'] = num\n",
        "print(Z)"
      ],
      "metadata": {
        "id": "kyPOSV5AIRgn",
        "outputId": "b382f687-c7d4-490c-ede6-c0a3e33c9237",
        "colab": {
          "base_uri": "https://localhost:8080/"
        }
      },
      "execution_count": null,
      "outputs": [
        {
          "output_type": "stream",
          "name": "stdout",
          "text": [
            "[('Colorado', 'CO', 103000, 0.54340494)\n",
            " ('Virginia', 'VA', 130000, 0.27836939)\n",
            " ('Maryland', 'MD', 115999, 0.42451759)\n",
            " ('Alaska', 'AL',  56000, 0.84477613)]\n"
          ]
        }
      ]
    },
    {
      "cell_type": "code",
      "source": [
        "print(Z[2], type(Z[2]))"
      ],
      "metadata": {
        "id": "dA0O0AxCl_0Z",
        "outputId": "5d9741d9-3cf4-4044-a753-c44b4c98d411",
        "colab": {
          "base_uri": "https://localhost:8080/"
        }
      },
      "execution_count": null,
      "outputs": [
        {
          "output_type": "stream",
          "name": "stdout",
          "text": [
            "('Maryland', 'MD', 115999, 0.42451759) <class 'numpy.void'>\n"
          ]
        }
      ]
    },
    {
      "cell_type": "code",
      "source": [
        "z2 = np.zeros(4, dtype=({'names':('states', 'ranks'), 'formats':('U8', 'i4')}))\n",
        "print(z2)"
      ],
      "metadata": {
        "id": "iS7-sIa1dyPE",
        "outputId": "bcb9ac0b-8879-4f58-a6a7-f49b707ebec5",
        "colab": {
          "base_uri": "https://localhost:8080/"
        }
      },
      "execution_count": null,
      "outputs": [
        {
          "output_type": "stream",
          "name": "stdout",
          "text": [
            "[('', 0) ('', 0) ('', 0) ('', 0)]\n"
          ]
        }
      ]
    },
    {
      "cell_type": "code",
      "source": [
        "z2['states'] = states\n",
        "z2['ranks'] = ranks \n",
        "print(z2)"
      ],
      "metadata": {
        "id": "y6qo20ksdybv",
        "outputId": "36ed2e20-baba-4373-b510-c4489c13bfac",
        "colab": {
          "base_uri": "https://localhost:8080/"
        }
      },
      "execution_count": null,
      "outputs": [
        {
          "output_type": "stream",
          "name": "stdout",
          "text": [
            "[('Colorado', 3) ('Virginia', 1) ('Maryland', 2) ('Alaska', 4)]\n"
          ]
        }
      ]
    },
    {
      "cell_type": "code",
      "source": [
        ""
      ],
      "metadata": {
        "id": "YY9B0Gqqdypx"
      },
      "execution_count": null,
      "outputs": []
    },
    {
      "cell_type": "markdown",
      "source": [
        "### More exercises, random "
      ],
      "metadata": {
        "id": "UatCkB3bX1TN"
      }
    },
    {
      "cell_type": "code",
      "source": [
        "A = np.ones((3, 5), dtype='float32')\n",
        "# expect 3 row x 5 col matrix of floating point 1.'s.  \n",
        "print(\"ones: \\n\", A, type(A), '\\n')\n",
        "\n",
        "# B = np.random.random((3, 5), dtype='float16') \n",
        "# expect 3 row x 5 col matrix, random numbers (0, 1) uniform distribution  \n",
        "# no type attribute for random generator. Returns float always. \n",
        "#  B = np.random.random(3,5) # row x col needs to be a single object, inside ().\n",
        "B = np.random.random((3, 5))\n",
        "print(\"randome: \\n\", B, type(B), '\\n')\n",
        "\n",
        "# C = np.random.normal((3, 3), (0, 3))      \n",
        "# expect 3 x 3 matric, random numbers from (mu=0, sigma=+/- 3) normal distribution  \n",
        "# ex: np.random.normal(3, 2.5, size=(2, 4))\n",
        "# np.random.normal(mu, sigma, size=(row, col))\n",
        "\n",
        "C = np.random.normal(0, 6, size=(3, 5))\n",
        "print(\"normal dist: \\n\", C, type(C))"
      ],
      "metadata": {
        "colab": {
          "base_uri": "https://localhost:8080/"
        },
        "id": "6c87PVfjg2ZF",
        "outputId": "649d444f-edd5-40aa-e306-658cd141f328"
      },
      "execution_count": null,
      "outputs": [
        {
          "output_type": "stream",
          "name": "stdout",
          "text": [
            "ones: \n",
            " [[1. 1. 1. 1. 1.]\n",
            " [1. 1. 1. 1. 1.]\n",
            " [1. 1. 1. 1. 1.]] <class 'numpy.ndarray'> \n",
            "\n",
            "randome: \n",
            " [[0.00471886 0.12156912 0.67074908 0.82585276 0.13670659]\n",
            " [0.57509333 0.89132195 0.20920212 0.18532822 0.10837689]\n",
            " [0.21969749 0.97862378 0.81168315 0.17194101 0.81622475]] <class 'numpy.ndarray'> \n",
            "\n",
            "normal dist: \n",
            " [[-3.00848076 -9.95221702 -6.04546378 -3.05240659  4.68893052]\n",
            " [-3.9262862   0.24703481 -1.21150144 -5.2248789   1.37359242]\n",
            " [-2.44823965 -0.62355083  9.40307271  2.98214829  6.93523401]] <class 'numpy.ndarray'>\n"
          ]
        }
      ]
    },
    {
      "cell_type": "code",
      "source": [
        "# random with reshape  \n",
        "R = np.random.random(16)\n",
        "R\n"
      ],
      "metadata": {
        "colab": {
          "base_uri": "https://localhost:8080/"
        },
        "id": "FDxFa5iZg2cM",
        "outputId": "ebc5f150-d326-4a40-e0ff-8df258d87070"
      },
      "execution_count": null,
      "outputs": [
        {
          "output_type": "execute_result",
          "data": {
            "text/plain": [
              "array([0.02043913, 0.21002658, 0.54468488, 0.76911517, 0.25069523,\n",
              "       0.28589569, 0.85239509, 0.97500649, 0.88485329, 0.35950784,\n",
              "       0.59885895, 0.35479561, 0.34019022, 0.17808099, 0.23769421,\n",
              "       0.04486228])"
            ]
          },
          "metadata": {},
          "execution_count": 11
        }
      ]
    },
    {
      "cell_type": "code",
      "source": [
        "R2 = np.random.randint(-10, 10, 16)\n",
        "R3 = R2.reshape(2, 8)\n",
        "R3"
      ],
      "metadata": {
        "colab": {
          "base_uri": "https://localhost:8080/"
        },
        "id": "XQQE9fKpg2fm",
        "outputId": "ece0cd14-c5a4-4eb3-ab78-0a1015e309d0"
      },
      "execution_count": null,
      "outputs": [
        {
          "output_type": "execute_result",
          "data": {
            "text/plain": [
              "array([[ -8,   0,   8,   3,   2,  -9,  -4,   0],\n",
              "       [-10,  -8,   9,  -6,   8,  -6,  -7,  -1]])"
            ]
          },
          "metadata": {},
          "execution_count": 12
        }
      ]
    },
    {
      "cell_type": "code",
      "source": [
        ""
      ],
      "metadata": {
        "id": "T7t09dTQdtkk"
      },
      "execution_count": null,
      "outputs": []
    },
    {
      "cell_type": "code",
      "source": [
        ""
      ],
      "metadata": {
        "id": "9V0_l6PodtzK"
      },
      "execution_count": null,
      "outputs": []
    },
    {
      "cell_type": "code",
      "source": [
        ""
      ],
      "metadata": {
        "id": "DvAu4eE-duDn"
      },
      "execution_count": null,
      "outputs": []
    }
  ]
}
