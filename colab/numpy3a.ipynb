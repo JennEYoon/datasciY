{
  "nbformat": 4,
  "nbformat_minor": 0,
  "metadata": {
    "colab": {
      "name": "numpy3a.ipynb",
      "provenance": [],
      "authorship_tag": "ABX9TyNlrmZaNhiErxpirKcpjsd8",
      "include_colab_link": true
    },
    "kernelspec": {
      "name": "python3",
      "display_name": "Python 3"
    },
    "language_info": {
      "name": "python"
    }
  },
  "cells": [
    {
      "cell_type": "markdown",
      "metadata": {
        "id": "view-in-github",
        "colab_type": "text"
      },
      "source": [
        "<a href=\"https://colab.research.google.com/github/JennEYoon/code/blob/main/current/numpy3a.ipynb\" target=\"_parent\"><img src=\"https://colab.research.google.com/assets/colab-badge.svg\" alt=\"Open In Colab\"/></a>"
      ]
    },
    {
      "cell_type": "markdown",
      "source": [
        "### Numpy practice 3a   \n",
        "linked private Github repo: \"code\"   \n",
        "Jan 4, 2022  "
      ],
      "metadata": {
        "id": "S9n6pCVODYBa"
      }
    },
    {
      "cell_type": "code",
      "source": [
        "# CoLab quick practice file  \n",
        "# Numpy practice 3 \n",
        "# code repo, private dev  \n",
        "# Jan 4, 2022  \n",
        "# Create matrix  \n",
        "\n",
        "# A = np.ones().reshape(3, 3)  \n",
        "# forgot number of items in np.ones().\n",
        "A = np.ones(9).reshape(3, 3)  \n",
        "\n",
        "print(A, type(A))  \n",
        "# expect ndarray type, [[1,1,1], [1,1,1], [1,1,1]]\n",
        "\n",
        "# B = np.array([1,2,3], [4,5,6], [7,8,9])\n",
        "# TypeError: array() takes from 1 to 2 positional arguments but 3 were given \n",
        "B = np.array([1, 2, 3, 4, 5, 6, 7, 8, 9]).reshape(3, 3)\n",
        "\n",
        "print(B, type(B)) \n",
        "# expect ndarray type, [[1, 2, 3], [4, 5, 6], [7, 8, 9]]  \n",
        "\n",
        "#print(A.shape(), B.shape())\n",
        "#TypeError: 'tuple' object is not callable\n",
        "print(np.shape(A), np.shape(B))\n",
        "# expect 3x3 3x3  \n",
        "\n"
      ],
      "metadata": {
        "colab": {
          "base_uri": "https://localhost:8080/"
        },
        "id": "oxKvFeQoDWww",
        "outputId": "2497994a-75b0-4feb-8fbc-66a3ac1a9bea"
      },
      "execution_count": null,
      "outputs": [
        {
          "output_type": "stream",
          "name": "stdout",
          "text": [
            "[[1. 1. 1.]\n",
            " [1. 1. 1.]\n",
            " [1. 1. 1.]] <class 'numpy.ndarray'>\n",
            "[[1 2 3]\n",
            " [4 5 6]\n",
            " [7 8 9]] <class 'numpy.ndarray'>\n",
            "(3, 3) (3, 3)\n"
          ]
        }
      ]
    },
    {
      "cell_type": "markdown",
      "source": [
        "### Evaluation:  \n",
        "Error on all 3 parts, but only 1 error.  Was able to fix after reading error message in 1-2 tries each.  Yeah!!!  \n",
        "Was worthy exercise since I could not remember how to do it correctly on first try.  "
      ],
      "metadata": {
        "id": "VdL-70TOFzIZ"
      }
    },
    {
      "cell_type": "code",
      "source": [
        ""
      ],
      "metadata": {
        "id": "90eNm-IAxQ36"
      },
      "execution_count": null,
      "outputs": []
    },
    {
      "cell_type": "code",
      "source": [
        "# Try nested list and turn it into numpy array.  Probably will fail.  \n",
        "import numpy as np\n",
        "\n",
        "clist = [[10, 11, 12], [20, 21, 22], [30, 31, 32]]\n",
        "\n",
        "C = np.array(clist)  # expect error\n",
        "print(C, type(C))  # Worked!  Unexpected.  \n",
        "\n",
        "# D = np.AsArray(clist)  # maybe will work?  \n",
        "# Wrong capitals\n",
        "D = np.asarray(clist)\n",
        "print(D, type(D))  # Works!  Wow.  \n",
        "\n",
        "E = np.asarray( [[10, 11, 12], [20, 21, 22], [30, 31, 32]] )\n",
        "print(E, type(E))\n",
        "\n",
        "F = np.array([[10, 11, 12], [20, 21, 22], [30, 31, 32]])\n",
        "print(\"F:\", F, type(F))"
      ],
      "metadata": {
        "id": "4uVtr53zDW0h",
        "colab": {
          "base_uri": "https://localhost:8080/"
        },
        "outputId": "4371839a-bd13-4c8b-8021-5b3a2c3fb132"
      },
      "execution_count": null,
      "outputs": [
        {
          "output_type": "stream",
          "name": "stdout",
          "text": [
            "[[10 11 12]\n",
            " [20 21 22]\n",
            " [30 31 32]] <class 'numpy.ndarray'>\n",
            "[[10 11 12]\n",
            " [20 21 22]\n",
            " [30 31 32]] <class 'numpy.ndarray'>\n",
            "[[10 11 12]\n",
            " [20 21 22]\n",
            " [30 31 32]] <class 'numpy.ndarray'>\n",
            "F: [[10 11 12]\n",
            " [20 21 22]\n",
            " [30 31 32]] <class 'numpy.ndarray'>\n"
          ]
        }
      ]
    },
    {
      "cell_type": "markdown",
      "source": [
        "### Evaluation, nested list works!  \n",
        "Tried different combinations of nested lists, \n",
        "to turn them into numpy ndarray, they all worked!  Not expecting this.  "
      ],
      "metadata": {
        "id": "VCwC3JtsxOja"
      }
    },
    {
      "cell_type": "code",
      "source": [
        "# Try using random to create ndarray. \n",
        "\n",
        "import numpy as np\n",
        "#from random import randint, choice, shuffle, randrange\n",
        "import random\n",
        "\n",
        "mat = np.arange(0,100, 5)\n",
        "print(mat, len(mat))\n"
      ],
      "metadata": {
        "id": "Nn7GAK03DW4K",
        "outputId": "53172b47-a998-4a5c-f32d-b4b5f353eb95",
        "colab": {
          "base_uri": "https://localhost:8080/"
        }
      },
      "execution_count": 6,
      "outputs": [
        {
          "output_type": "stream",
          "name": "stdout",
          "text": [
            "[ 0  5 10 15 20 25 30 35 40 45 50 55 60 65 70 75 80 85 90 95] 20\n"
          ]
        }
      ]
    },
    {
      "cell_type": "code",
      "source": [
        "b = random.choice(mat)\n",
        "print(b)"
      ],
      "metadata": {
        "id": "JaA34L3VDW7m",
        "outputId": "bef4f5f0-296c-4389-e2d7-63e1d2afd563",
        "colab": {
          "base_uri": "https://localhost:8080/"
        }
      },
      "execution_count": 7,
      "outputs": [
        {
          "output_type": "stream",
          "name": "stdout",
          "text": [
            "85\n"
          ]
        }
      ]
    },
    {
      "cell_type": "code",
      "source": [
        "c = np.random.choice(mat)\n",
        "print(c)"
      ],
      "metadata": {
        "id": "NCQSdM9eDXAx",
        "outputId": "c3ee3a19-014c-4f8e-cba4-14c85260fa1d",
        "colab": {
          "base_uri": "https://localhost:8080/"
        }
      },
      "execution_count": 10,
      "outputs": [
        {
          "output_type": "stream",
          "name": "stdout",
          "text": [
            "40\n"
          ]
        }
      ]
    }
  ]
}