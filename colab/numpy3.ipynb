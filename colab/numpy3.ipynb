{
  "nbformat": 4,
  "nbformat_minor": 0,
  "metadata": {
    "colab": {
      "name": "numpy3.ipynb",
      "provenance": []
    },
    "kernelspec": {
      "name": "python3",
      "display_name": "Python 3"
    },
    "language_info": {
      "name": "python"
    }
  },
  "cells": [
    {
      "cell_type": "markdown",
      "source": [
        "### Numpy practice 3 \n",
        "code repo, private dev  \n",
        "Jan 4, 2022  "
      ],
      "metadata": {
        "id": "S9n6pCVODYBa"
      }
    },
    {
      "cell_type": "code",
      "source": [
        "\n",
        "# Numpy practice 3 \n",
        "# code repo, private dev  \n",
        "# Jan 4, 2022  \n",
        "# Create matrix  \n",
        "\n",
        "# A = np.ones().reshape(3, 3)  \n",
        "# forgot number of items in np.ones().\n",
        "A = np.ones(9).reshape(3, 3)  \n",
        "\n",
        "print(A, type(A))  \n",
        "# expect ndarray type, [[1,1,1], [1,1,1], [1,1,1]]\n",
        "\n",
        "# B = np.array([1,2,3], [4,5,6], [7,8,9])\n",
        "# TypeError: array() takes from 1 to 2 positional arguments but 3 were given \n",
        "B = np.array([1, 2, 3, 4, 5, 6, 7, 8, 9]).reshape(3, 3)\n",
        "\n",
        "print(B, type(B)) \n",
        "# expect ndarray type, [[1, 2, 3], [4, 5, 6], [7, 8, 9]]  \n",
        "\n",
        "#print(A.shape(), B.shape())\n",
        "#TypeError: 'tuple' object is not callable\n",
        "print(np.shape(A), np.shape(B))\n",
        "# expect 3x3 3x3  \n",
        "\n"
      ],
      "metadata": {
        "colab": {
          "base_uri": "https://localhost:8080/"
        },
        "id": "oxKvFeQoDWww",
        "outputId": "26427604-9257-4634-d251-cd201cb68125"
      },
      "execution_count": 4,
      "outputs": [
        {
          "output_type": "stream",
          "name": "stdout",
          "text": [
            "[[1. 1. 1.]\n",
            " [1. 1. 1.]\n",
            " [1. 1. 1.]] <class 'numpy.ndarray'>\n",
            "[[1 2 3]\n",
            " [4 5 6]\n",
            " [7 8 9]] <class 'numpy.ndarray'>\n",
            "(3, 3) (3, 3)\n"
          ]
        }
      ]
    },
    {
      "cell_type": "markdown",
      "source": [
        "### Evaluation:  \n",
        "Error on all 3 parts, but only 1 error.  Was able to fix after reading error message in 1-2 tries each.  Yeah!!!  \n",
        "Was worthy exercise since I could not remember how to do it correctly on first try.  "
      ],
      "metadata": {
        "id": "VdL-70TOFzIZ"
      }
    },
    {
      "cell_type": "code",
      "source": [
        ""
      ],
      "metadata": {
        "id": "4uVtr53zDW0h"
      },
      "execution_count": null,
      "outputs": []
    },
    {
      "cell_type": "code",
      "source": [
        ""
      ],
      "metadata": {
        "id": "Nn7GAK03DW4K"
      },
      "execution_count": null,
      "outputs": []
    },
    {
      "cell_type": "code",
      "source": [
        ""
      ],
      "metadata": {
        "id": "JaA34L3VDW7m"
      },
      "execution_count": null,
      "outputs": []
    },
    {
      "cell_type": "code",
      "source": [
        ""
      ],
      "metadata": {
        "id": "NCQSdM9eDXAx"
      },
      "execution_count": null,
      "outputs": []
    }
  ]
}