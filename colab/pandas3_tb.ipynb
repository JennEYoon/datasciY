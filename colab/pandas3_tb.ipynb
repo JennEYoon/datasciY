{
  "nbformat": 4,
  "nbformat_minor": 0,
  "metadata": {
    "colab": {
      "name": "pandas3.T.ipynb",
      "provenance": [],
      "authorship_tag": "ABX9TyOr3Fv34oqGdlr3Yfpp7l+o",
      "include_colab_link": true
    },
    "kernelspec": {
      "name": "python3",
      "display_name": "Python 3"
    },
    "language_info": {
      "name": "python"
    }
  },
  "cells": [
    {
      "cell_type": "markdown",
      "metadata": {
        "id": "view-in-github",
        "colab_type": "text"
      },
      "source": [
        "<a href=\"https://colab.research.google.com/github/JennEYoon/code/blob/main/current/pandas3_tb.ipynb\" target=\"_parent\"><img src=\"https://colab.research.google.com/assets/colab-badge.svg\" alt=\"Open In Colab\"/></a>"
      ]
    },
    {
      "cell_type": "markdown",
      "source": [
        "### Pandas, quick exercise, Transform  "
      ],
      "metadata": {
        "id": "aJ4SgBCkRuyB"
      }
    },
    {
      "cell_type": "code",
      "execution_count": 10,
      "metadata": {
        "id": "W64klNMZRqW2"
      },
      "outputs": [],
      "source": [
        "# pandas transpose, quick exercise  \n",
        "# Jan 20, 2022 12pm - 12:20pm   \n",
        "# 3:40 - 4:30pm    \n",
        "# Feb 12, 2022 5pm quick test, DataFrame format. \n",
        "# Do some exercises to transpose Series, then see if they can be read in as columns?  \n",
        "# Series are normally read in as rows, but maybe create numpy row transpose and read in together?  \n",
        "# Maybe dictionary is the approved method to readin as columns.  \n",
        "# Read Pandas documentation.  \n",
        "\n",
        "import numpy as np\n",
        "import pandas as pd  \n"
      ]
    },
    {
      "cell_type": "code",
      "source": [
        "col1 = np.arange(100, 105, 1)\n",
        "col2 = pd.Series(['h', 'e', 'l', 'l', 'o'])\n",
        "#print(col1, col1.shape())  # expect 5,1, no transpose for numpy, reshape works.\n",
        "#print(col2, col2.shape())  # dimension?  not sure if this will work.  \n",
        "print(col1)\n",
        "print(col2)\n",
        "\n",
        "# df = pd.DataFrame(data=[col1, col2])\n",
        "# might still not work after each input columns have been transposed.  \n",
        "# Still does NOT work.  Passes in data = 2 rows, 1 columns.\n",
        "df = pd.DataFrame(col2)\n",
        "print(df)\n",
        "df['B'] = col2\n",
        "print(df)\n",
        "df.columns = ['A', 'B']\n",
        "df"
      ],
      "metadata": {
        "id": "TU_e93z6BSIO",
        "outputId": "8992258f-4173-4c48-f64d-afb5832eb468",
        "colab": {
          "base_uri": "https://localhost:8080/",
          "height": 548
        }
      },
      "execution_count": 11,
      "outputs": [
        {
          "output_type": "stream",
          "name": "stdout",
          "text": [
            "[100 101 102 103 104]\n",
            "0    h\n",
            "1    e\n",
            "2    l\n",
            "3    l\n",
            "4    o\n",
            "dtype: object\n",
            "   0\n",
            "0  h\n",
            "1  e\n",
            "2  l\n",
            "3  l\n",
            "4  o\n",
            "   0  B\n",
            "0  h  h\n",
            "1  e  e\n",
            "2  l  l\n",
            "3  l  l\n",
            "4  o  o\n"
          ]
        },
        {
          "output_type": "execute_result",
          "data": {
            "text/html": [
              "\n",
              "  <div id=\"df-f3ed4bd1-414b-49ea-a2ab-94a62e6e3f7e\">\n",
              "    <div class=\"colab-df-container\">\n",
              "      <div>\n",
              "<style scoped>\n",
              "    .dataframe tbody tr th:only-of-type {\n",
              "        vertical-align: middle;\n",
              "    }\n",
              "\n",
              "    .dataframe tbody tr th {\n",
              "        vertical-align: top;\n",
              "    }\n",
              "\n",
              "    .dataframe thead th {\n",
              "        text-align: right;\n",
              "    }\n",
              "</style>\n",
              "<table border=\"1\" class=\"dataframe\">\n",
              "  <thead>\n",
              "    <tr style=\"text-align: right;\">\n",
              "      <th></th>\n",
              "      <th>A</th>\n",
              "      <th>B</th>\n",
              "    </tr>\n",
              "  </thead>\n",
              "  <tbody>\n",
              "    <tr>\n",
              "      <th>0</th>\n",
              "      <td>h</td>\n",
              "      <td>h</td>\n",
              "    </tr>\n",
              "    <tr>\n",
              "      <th>1</th>\n",
              "      <td>e</td>\n",
              "      <td>e</td>\n",
              "    </tr>\n",
              "    <tr>\n",
              "      <th>2</th>\n",
              "      <td>l</td>\n",
              "      <td>l</td>\n",
              "    </tr>\n",
              "    <tr>\n",
              "      <th>3</th>\n",
              "      <td>l</td>\n",
              "      <td>l</td>\n",
              "    </tr>\n",
              "    <tr>\n",
              "      <th>4</th>\n",
              "      <td>o</td>\n",
              "      <td>o</td>\n",
              "    </tr>\n",
              "  </tbody>\n",
              "</table>\n",
              "</div>\n",
              "      <button class=\"colab-df-convert\" onclick=\"convertToInteractive('df-f3ed4bd1-414b-49ea-a2ab-94a62e6e3f7e')\"\n",
              "              title=\"Convert this dataframe to an interactive table.\"\n",
              "              style=\"display:none;\">\n",
              "        \n",
              "  <svg xmlns=\"http://www.w3.org/2000/svg\" height=\"24px\"viewBox=\"0 0 24 24\"\n",
              "       width=\"24px\">\n",
              "    <path d=\"M0 0h24v24H0V0z\" fill=\"none\"/>\n",
              "    <path d=\"M18.56 5.44l.94 2.06.94-2.06 2.06-.94-2.06-.94-.94-2.06-.94 2.06-2.06.94zm-11 1L8.5 8.5l.94-2.06 2.06-.94-2.06-.94L8.5 2.5l-.94 2.06-2.06.94zm10 10l.94 2.06.94-2.06 2.06-.94-2.06-.94-.94-2.06-.94 2.06-2.06.94z\"/><path d=\"M17.41 7.96l-1.37-1.37c-.4-.4-.92-.59-1.43-.59-.52 0-1.04.2-1.43.59L10.3 9.45l-7.72 7.72c-.78.78-.78 2.05 0 2.83L4 21.41c.39.39.9.59 1.41.59.51 0 1.02-.2 1.41-.59l7.78-7.78 2.81-2.81c.8-.78.8-2.07 0-2.86zM5.41 20L4 18.59l7.72-7.72 1.47 1.35L5.41 20z\"/>\n",
              "  </svg>\n",
              "      </button>\n",
              "      \n",
              "  <style>\n",
              "    .colab-df-container {\n",
              "      display:flex;\n",
              "      flex-wrap:wrap;\n",
              "      gap: 12px;\n",
              "    }\n",
              "\n",
              "    .colab-df-convert {\n",
              "      background-color: #E8F0FE;\n",
              "      border: none;\n",
              "      border-radius: 50%;\n",
              "      cursor: pointer;\n",
              "      display: none;\n",
              "      fill: #1967D2;\n",
              "      height: 32px;\n",
              "      padding: 0 0 0 0;\n",
              "      width: 32px;\n",
              "    }\n",
              "\n",
              "    .colab-df-convert:hover {\n",
              "      background-color: #E2EBFA;\n",
              "      box-shadow: 0px 1px 2px rgba(60, 64, 67, 0.3), 0px 1px 3px 1px rgba(60, 64, 67, 0.15);\n",
              "      fill: #174EA6;\n",
              "    }\n",
              "\n",
              "    [theme=dark] .colab-df-convert {\n",
              "      background-color: #3B4455;\n",
              "      fill: #D2E3FC;\n",
              "    }\n",
              "\n",
              "    [theme=dark] .colab-df-convert:hover {\n",
              "      background-color: #434B5C;\n",
              "      box-shadow: 0px 1px 3px 1px rgba(0, 0, 0, 0.15);\n",
              "      filter: drop-shadow(0px 1px 2px rgba(0, 0, 0, 0.3));\n",
              "      fill: #FFFFFF;\n",
              "    }\n",
              "  </style>\n",
              "\n",
              "      <script>\n",
              "        const buttonEl =\n",
              "          document.querySelector('#df-f3ed4bd1-414b-49ea-a2ab-94a62e6e3f7e button.colab-df-convert');\n",
              "        buttonEl.style.display =\n",
              "          google.colab.kernel.accessAllowed ? 'block' : 'none';\n",
              "\n",
              "        async function convertToInteractive(key) {\n",
              "          const element = document.querySelector('#df-f3ed4bd1-414b-49ea-a2ab-94a62e6e3f7e');\n",
              "          const dataTable =\n",
              "            await google.colab.kernel.invokeFunction('convertToInteractive',\n",
              "                                                     [key], {});\n",
              "          if (!dataTable) return;\n",
              "\n",
              "          const docLinkHtml = 'Like what you see? Visit the ' +\n",
              "            '<a target=\"_blank\" href=https://colab.research.google.com/notebooks/data_table.ipynb>data table notebook</a>'\n",
              "            + ' to learn more about interactive tables.';\n",
              "          element.innerHTML = '';\n",
              "          dataTable['output_type'] = 'display_data';\n",
              "          await google.colab.output.renderOutput(dataTable, element);\n",
              "          const docLink = document.createElement('div');\n",
              "          docLink.innerHTML = docLinkHtml;\n",
              "          element.appendChild(docLink);\n",
              "        }\n",
              "      </script>\n",
              "    </div>\n",
              "  </div>\n",
              "  "
            ],
            "text/plain": [
              "   A  B\n",
              "0  h  h\n",
              "1  e  e\n",
              "2  l  l\n",
              "3  l  l\n",
              "4  o  o"
            ]
          },
          "metadata": {},
          "execution_count": 11
        }
      ]
    },
    {
      "cell_type": "code",
      "source": [
        "# Dictionary is the only way to pass columns  \n",
        "dict1 = {'col1': col1, 'col2':col2}\n",
        "print(dict1)\n",
        "df2 = pd.DataFrame(data=dict1, columns=['A', 'B'])\n",
        "print(df2)\n",
        "\n",
        "# https://pandas.pydata.org/docs/reference/api/pandas.DataFrame.html  \n",
        "# data has to be a single object somehow, define it first as a dictionary.  "
      ],
      "metadata": {
        "colab": {
          "base_uri": "https://localhost:8080/"
        },
        "id": "kFXkLi3jURIy",
        "outputId": "b4f2184e-fc07-46cb-b418-5c626eb8070a"
      },
      "execution_count": null,
      "outputs": [
        {
          "output_type": "stream",
          "name": "stdout",
          "text": [
            "{'col1': array([[10],\n",
            "       [11],\n",
            "       [12],\n",
            "       [13],\n",
            "       [14]]), 'col2': 0    h\n",
            "1    e\n",
            "2    l\n",
            "3    l\n",
            "4    o\n",
            "dtype: object}\n",
            "Empty DataFrame\n",
            "Columns: [A, B]\n",
            "Index: []\n"
          ]
        }
      ]
    },
    {
      "cell_type": "code",
      "source": [
        ""
      ],
      "metadata": {
        "id": "XDdmboECBGX-"
      },
      "execution_count": null,
      "outputs": []
    },
    {
      "cell_type": "code",
      "source": [
        "# Not what I was expection.  \n",
        "# Don't transpose yet. Then use dictionary  \n",
        "A = np.arange(10, 15, 1)\n",
        "B = ['h', 'e', 'l', 'l', 'o']\n",
        "print(A, B)\n",
        "data = {'A': A, 'B': B}\n",
        "print(data)\n",
        "\n",
        "df2 = pd.DataFrame(data)\n",
        "print(df2)\n",
        "#  WOW!  That actually worked.  \n",
        "#  I need to breakt it into 2 steps, define data as a dictionary item, \n",
        "#  then add data to DataFrame.  Keeps column names from dictionary keys.  \n",
        "\n",
        "# I guess I could do it in one-step, since I don't need to transpose.  \n",
        "# Better practice to do it in 2-steps.  "
      ],
      "metadata": {
        "colab": {
          "base_uri": "https://localhost:8080/"
        },
        "id": "R1A-cfC_XBna",
        "outputId": "c3b1e50d-b080-47b8-bc99-4ba633939b38"
      },
      "execution_count": null,
      "outputs": [
        {
          "output_type": "stream",
          "name": "stdout",
          "text": [
            "[10 11 12 13 14] ['h', 'e', 'l', 'l', 'o']\n",
            "{'A': array([10, 11, 12, 13, 14]), 'B': ['h', 'e', 'l', 'l', 'o']}\n",
            "    A  B\n",
            "0  10  h\n",
            "1  11  e\n",
            "2  12  l\n",
            "3  13  l\n",
            "4  14  o\n"
          ]
        }
      ]
    }
  ]
}