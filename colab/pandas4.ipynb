{
 "cells": [
  {
   "cell_type": "markdown",
   "id": "53e5106c",
   "metadata": {},
   "source": [
    "### Quick exercise, Pandas   \n",
    "Should be running \"base\" env from WSL2 side.  \n",
    "Repo in C, used Jupyter NB from WSL2 base.  \n",
    "\n",
    "date: Feb 12, 2022  \n",
    "author:  Jennifer E Yoon  "
   ]
  },
  {
   "cell_type": "code",
   "execution_count": 2,
   "id": "55efc36e",
   "metadata": {},
   "outputs": [
    {
     "name": "stdout",
     "output_type": "stream",
     "text": [
      "Python 3.9.5\r\n"
     ]
    }
   ],
   "source": [
    "!python --version"
   ]
  },
  {
   "cell_type": "code",
   "execution_count": 4,
   "id": "a36873ae",
   "metadata": {},
   "outputs": [
    {
     "name": "stdout",
     "output_type": "stream",
     "text": [
      "np:  1.21.2\n",
      "pd:  1.3.5\n"
     ]
    }
   ],
   "source": [
    "import numpy as np\n",
    "import pandas as pd\n",
    "\n",
    "print(\"np: \", np.__version__)\n",
    "print(\"pd: \", pd.__version__)"
   ]
  },
  {
   "cell_type": "markdown",
   "id": "e2be3c1f",
   "metadata": {},
   "source": [
    "#### Some exercises from Vanderplas 2017 book  \n",
    "Chp 3: Pandas  \n",
    "Source docs: http://pandas.pydata.org/  \n",
    "Data Structures, New: Series, DataFrame, Index  "
   ]
  },
  {
   "cell_type": "code",
   "execution_count": 7,
   "id": "e7778034",
   "metadata": {},
   "outputs": [
    {
     "name": "stdout",
     "output_type": "stream",
     "text": [
      "<class 'list'> <class 'list'>\n",
      "100 <class 'int'>\n"
     ]
    }
   ],
   "source": [
    "# Q: Can values contain string?  Can index be numbers?  \n",
    "\n",
    "data = ['Virginia', 'Texas', 'Florida', 'California', 'Arizona']\n",
    "id = [100, 101, 102, 103, 104]\n",
    "print(type(data), type(id))\n",
    "print(id[0], type(id[0]))"
   ]
  },
  {
   "cell_type": "code",
   "execution_count": 13,
   "id": "0ac868eb",
   "metadata": {},
   "outputs": [],
   "source": [
    "ser = pd.Series(data=data, index=id)"
   ]
  },
  {
   "cell_type": "code",
   "execution_count": 14,
   "id": "0276b7b9",
   "metadata": {},
   "outputs": [
    {
     "data": {
      "text/plain": [
       "100      Virginia\n",
       "101         Texas\n",
       "102       Florida\n",
       "103    California\n",
       "104       Arizona\n",
       "dtype: object"
      ]
     },
     "execution_count": 14,
     "metadata": {},
     "output_type": "execute_result"
    }
   ],
   "source": [
    "ser"
   ]
  },
  {
   "cell_type": "code",
   "execution_count": 15,
   "id": "451f25b7",
   "metadata": {},
   "outputs": [
    {
     "data": {
      "text/plain": [
       "['Virginia', 'Texas', 'Florida', 'California', 'Arizona']"
      ]
     },
     "execution_count": 15,
     "metadata": {},
     "output_type": "execute_result"
    }
   ],
   "source": [
    "data"
   ]
  },
  {
   "cell_type": "code",
   "execution_count": 18,
   "id": "b40c342e",
   "metadata": {},
   "outputs": [
    {
     "data": {
      "text/plain": [
       "'Virginia'"
      ]
     },
     "execution_count": 18,
     "metadata": {},
     "output_type": "execute_result"
    }
   ],
   "source": [
    "ser[100]"
   ]
  },
  {
   "cell_type": "code",
   "execution_count": 19,
   "id": "1a241113",
   "metadata": {},
   "outputs": [
    {
     "name": "stdout",
     "output_type": "stream",
     "text": [
      "100      Homeland\n",
      "101         Texas\n",
      "102       Florida\n",
      "103    California\n",
      "104       Arizona\n",
      "dtype: object\n",
      "['Virginia', 'Texas', 'Florida', 'California', 'Arizona']\n"
     ]
    }
   ],
   "source": [
    "ser[100] = \"Homeland\"\n",
    "print(ser)\n",
    "print(data)"
   ]
  },
  {
   "cell_type": "code",
   "execution_count": 21,
   "id": "ef2afea7",
   "metadata": {},
   "outputs": [
    {
     "data": {
      "text/plain": [
       "array(['one', 'two', 'three', 'four', 'five'], dtype='<U5')"
      ]
     },
     "execution_count": 21,
     "metadata": {},
     "output_type": "execute_result"
    }
   ],
   "source": [
    "# Q: can numpy contain string in values field?  \n",
    "\n",
    "lst = ['one', 'two', 'three', 'four', 'five']\n",
    "ar1 = np.array(lst)\n",
    "ar1"
   ]
  },
  {
   "cell_type": "code",
   "execution_count": 28,
   "id": "8d6a4cc1",
   "metadata": {},
   "outputs": [
    {
     "data": {
      "text/plain": [
       "0      one\n",
       "1      two\n",
       "2    three\n",
       "3     four\n",
       "4     five\n",
       "dtype: object"
      ]
     },
     "execution_count": 28,
     "metadata": {},
     "output_type": "execute_result"
    }
   ],
   "source": [
    "ser2 = pd.Series(data=ar1, copy=False)\n",
    "ser2"
   ]
  },
  {
   "cell_type": "code",
   "execution_count": 29,
   "id": "71618473",
   "metadata": {},
   "outputs": [
    {
     "name": "stdout",
     "output_type": "stream",
     "text": [
      "0     many\n",
      "1      two\n",
      "2    three\n",
      "3     four\n",
      "4     five\n",
      "dtype: object\n",
      "['one' 'two' 'three' 'four' 'five']\n",
      "['one', 'two', 'three', 'four', 'five']\n"
     ]
    }
   ],
   "source": [
    "ser2[0] = 'many'\n",
    "print(ser2)\n",
    "print(ar1)\n",
    "print(lst)"
   ]
  },
  {
   "cell_type": "code",
   "execution_count": 30,
   "id": "61e2c7b2",
   "metadata": {},
   "outputs": [],
   "source": [
    "# Not sure what copy=False and copy-True works.  "
   ]
  },
  {
   "cell_type": "code",
   "execution_count": 31,
   "id": "1ff5f3a9",
   "metadata": {},
   "outputs": [
    {
     "name": "stdout",
     "output_type": "stream",
     "text": [
      "0    0\n",
      "1    1\n",
      "2    2\n",
      "3    3\n",
      "4    4\n",
      "dtype: int64 [0 1 2 3 4]\n",
      "0     0\n",
      "1    99\n",
      "2     2\n",
      "3     3\n",
      "4     4\n",
      "dtype: int64 [ 0 99  2  3  4]\n"
     ]
    }
   ],
   "source": [
    "ar2 = np.arange(0, 5)\n",
    "ser3 = pd.Series(ar2, copy=False)\n",
    "print(ser3, ar2)\n",
    "ser3[1] = 99 \n",
    "print(ser3, ar2)"
   ]
  },
  {
   "cell_type": "code",
   "execution_count": 32,
   "id": "b9aa25be",
   "metadata": {},
   "outputs": [],
   "source": [
    "# OK, so when the input is numpy and number type, \n",
    "# copy=False creates a \"view\" and original data is also overwritten."
   ]
  },
  {
   "cell_type": "code",
   "execution_count": null,
   "id": "c7854f75",
   "metadata": {},
   "outputs": [],
   "source": []
  }
 ],
 "metadata": {
  "kernelspec": {
   "display_name": "Python 3",
   "language": "python",
   "name": "python3"
  },
  "language_info": {
   "codemirror_mode": {
    "name": "ipython",
    "version": 3
   },
   "file_extension": ".py",
   "mimetype": "text/x-python",
   "name": "python",
   "nbconvert_exporter": "python",
   "pygments_lexer": "ipython3",
   "version": "3.9.5"
  }
 },
 "nbformat": 4,
 "nbformat_minor": 5
}
