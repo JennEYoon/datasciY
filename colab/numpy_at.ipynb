{
  "nbformat": 4,
  "nbformat_minor": 0,
  "metadata": {
    "colab": {
      "name": "numpy_at.ipynb",
      "provenance": [],
      "mount_file_id": "1XwUjwPdE6nF_VFpwVoCR5koRwgnStIci",
      "authorship_tag": "ABX9TyNPIYhr3MLPplO0cKqfRySm",
      "include_colab_link": true
    },
    "kernelspec": {
      "name": "python3",
      "display_name": "Python 3"
    },
    "language_info": {
      "name": "python"
    }
  },
  "cells": [
    {
      "cell_type": "markdown",
      "metadata": {
        "id": "view-in-github",
        "colab_type": "text"
      },
      "source": [
        "<a href=\"https://colab.research.google.com/github/JennEYoon/code/blob/main/current/numpy_at.ipynb\" target=\"_parent\"><img src=\"https://colab.research.google.com/assets/colab-badge.svg\" alt=\"Open In Colab\"/></a>"
      ]
    },
    {
      "cell_type": "code",
      "execution_count": null,
      "metadata": {
        "colab": {
          "base_uri": "https://localhost:8080/"
        },
        "id": "OYmvtNtuqtU1",
        "outputId": "0552cc97-532e-4b30-bcd8-ce94b2343baa"
      },
      "outputs": [
        {
          "output_type": "stream",
          "name": "stdout",
          "text": [
            "[5 6 7 8 9] [ 0  3  6  9 12]\n"
          ]
        }
      ],
      "source": [
        "import numpy as np  \n",
        "\n",
        "A = np.array([5, 6, 7, 8, 9])\n",
        "B = np.arange(0, 15, 3)  \n",
        "print(A, B)"
      ]
    },
    {
      "cell_type": "code",
      "source": [
        "A + B"
      ],
      "metadata": {
        "colab": {
          "base_uri": "https://localhost:8080/"
        },
        "id": "nKmH4ZvbrD3Z",
        "outputId": "ba464503-2c2b-4a7f-82e5-cf38da833bf6"
      },
      "execution_count": null,
      "outputs": [
        {
          "output_type": "execute_result",
          "data": {
            "text/plain": [
              "array([ 5,  9, 13, 17, 21])"
            ]
          },
          "metadata": {},
          "execution_count": 10
        }
      ]
    },
    {
      "cell_type": "code",
      "source": [
        "A * B"
      ],
      "metadata": {
        "colab": {
          "base_uri": "https://localhost:8080/"
        },
        "id": "edDM92TcretK",
        "outputId": "8824eced-d102-4745-bfac-5aedf38d7402"
      },
      "execution_count": null,
      "outputs": [
        {
          "output_type": "execute_result",
          "data": {
            "text/plain": [
              "array([  0,  18,  42,  72, 108])"
            ]
          },
          "metadata": {},
          "execution_count": 5
        }
      ]
    },
    {
      "cell_type": "code",
      "source": [
        "A @ B"
      ],
      "metadata": {
        "colab": {
          "base_uri": "https://localhost:8080/"
        },
        "id": "l5K8V7U8qz7u",
        "outputId": "b71f2cf8-032b-4326-9007-3a4a7a3add0b"
      },
      "execution_count": null,
      "outputs": [
        {
          "output_type": "execute_result",
          "data": {
            "text/plain": [
              "240"
            ]
          },
          "metadata": {},
          "execution_count": 9
        }
      ]
    },
    {
      "cell_type": "code",
      "source": [
        "# 1x5 * 5x1 = 1x1 dimension. "
      ],
      "metadata": {
        "id": "fD6BAHugEn6A"
      },
      "execution_count": null,
      "outputs": []
    },
    {
      "cell_type": "code",
      "source": [
        "# matrix multiplication @ infix operator. A @ B. \n",
        "C = np.array([[1, 1], [-1, -1]])\n",
        "D = np.array([[1, 1], [4, 4]])\n",
        "print(C, D)\n",
        "result = C @ D.T\n",
        "print(result)"
      ],
      "metadata": {
        "colab": {
          "base_uri": "https://localhost:8080/"
        },
        "id": "s0_zK5q7rbXy",
        "outputId": "9707a86b-c2db-455d-adc7-39c9d8dfc842"
      },
      "execution_count": null,
      "outputs": [
        {
          "output_type": "stream",
          "name": "stdout",
          "text": [
            "[[ 1  1]\n",
            " [-1 -1]] [[1 1]\n",
            " [4 4]]\n",
            "[[ 2  8]\n",
            " [-2 -8]]\n"
          ]
        }
      ]
    },
    {
      "cell_type": "code",
      "source": [
        "# nxm @ mxn = nxn  \n",
        "# [(1*1 + 1*1), (1*4 + 1*4), \n",
        "#  (-1*1 + -1*1), (-1*4 + -1*4)]\n",
        "# "
      ],
      "metadata": {
        "id": "kZM4NdKPv9GM"
      },
      "execution_count": null,
      "outputs": []
    }
  ]
}