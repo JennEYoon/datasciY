{
 "cells": [
  {
   "cell_type": "markdown",
   "metadata": {
    "colab_type": "text",
    "id": "view-in-github"
   },
   "source": [
    "<a href=\"https://colab.research.google.com/github/JennEYoon/code/blob/main/current/pandas3_T.ipynb\" target=\"_parent\"><img src=\"https://colab.research.google.com/assets/colab-badge.svg\" alt=\"Open In Colab\"/></a>"
   ]
  },
  {
   "cell_type": "markdown",
   "metadata": {
    "id": "aJ4SgBCkRuyB"
   },
   "source": [
    "### Pandas, quick exercise, Transform  "
   ]
  },
  {
   "cell_type": "code",
   "execution_count": 1,
   "metadata": {
    "colab": {
     "base_uri": "https://localhost:8080/"
    },
    "id": "W64klNMZRqW2",
    "outputId": "261aef44-11c6-4ee9-db52-1fd528e4b64b"
   },
   "outputs": [
    {
     "name": "stdout",
     "output_type": "stream",
     "text": [
      "[[10]\n",
      " [11]\n",
      " [12]\n",
      " [13]\n",
      " [14]]\n",
      "0    h\n",
      "1    e\n",
      "2    l\n",
      "3    l\n",
      "4    o\n",
      "dtype: object\n",
      "                                                  0\n",
      "0                    [[10], [11], [12], [13], [14]]\n",
      "1  0    h\n",
      "1    e\n",
      "2    l\n",
      "3    l\n",
      "4    o\n",
      "dtype: object\n"
     ]
    },
    {
     "name": "stderr",
     "output_type": "stream",
     "text": [
      "/usr/local/lib/python3.7/dist-packages/pandas/core/internals/construction.py:305: VisibleDeprecationWarning: Creating an ndarray from ragged nested sequences (which is a list-or-tuple of lists-or-tuples-or ndarrays with different lengths or shapes) is deprecated. If you meant to do this, you must specify 'dtype=object' when creating the ndarray\n",
      "  values = np.array([convert(v) for v in values])\n"
     ]
    }
   ],
   "source": [
    "# pandas transpose, quick exercise  \n",
    "# Jan 20, 2022 12pm - 12:20pm   \n",
    "# 3:40 - 4:30pm    \n",
    "# Do some exercises to transpose Series, then see if they can be readin as columns?  \n",
    "# Series are normally read in as rows, but maybe create numpy row transpose and read in together?  \n",
    "# Maybe dictionary is the approved method to readin as columns.  \n",
    "# Read Pandas documentation.  \n",
    "\n",
    "import numpy as np\n",
    "import pandas as pd  \n",
    "\n",
    "col1 = np.arange(10, 15, 1).reshape(5, 1)\n",
    "col2 = pd.Series(['h', 'e', 'l', 'l', 'o']).T  \n",
    "#print(col1, col1.shape())  # expect 5,1, no transpose for numpy, reshape works.\n",
    "#print(col2, col2.shape())  # dimension?  not sure if this will work.  \n",
    "print(col1)\n",
    "print(col2)\n",
    "\n",
    "df = pd.DataFrame(data=[col1, col2])\n",
    "# might still not work after each input columns have been transposed.  \n",
    "# Still does NOT work.  Passes in data = 2 rows, 1 columns.\n",
    "print(df)"
   ]
  },
  {
   "cell_type": "code",
   "execution_count": 2,
   "metadata": {
    "colab": {
     "base_uri": "https://localhost:8080/"
    },
    "id": "kFXkLi3jURIy",
    "outputId": "b4f2184e-fc07-46cb-b418-5c626eb8070a"
   },
   "outputs": [
    {
     "name": "stdout",
     "output_type": "stream",
     "text": [
      "{'col1': array([[10],\n",
      "       [11],\n",
      "       [12],\n",
      "       [13],\n",
      "       [14]]), 'col2': 0    h\n",
      "1    e\n",
      "2    l\n",
      "3    l\n",
      "4    o\n",
      "dtype: object}\n",
      "Empty DataFrame\n",
      "Columns: [A, B]\n",
      "Index: []\n"
     ]
    }
   ],
   "source": [
    "# Dictionary is the only way to pass columns  \n",
    "dict1 = {'col1': col1, 'col2':col2}\n",
    "print(dict1)\n",
    "df2 = pd.DataFrame(data=dict1, columns=['A', 'B'])\n",
    "print(df2)\n",
    "\n",
    "# https://pandas.pydata.org/docs/reference/api/pandas.DataFrame.html  \n",
    "# data has to be a single object somehow, define it first as a dictionary.  "
   ]
  },
  {
   "cell_type": "code",
   "execution_count": 3,
   "metadata": {
    "colab": {
     "base_uri": "https://localhost:8080/"
    },
    "id": "R1A-cfC_XBna",
    "outputId": "c3b1e50d-b080-47b8-bc99-4ba633939b38"
   },
   "outputs": [
    {
     "name": "stdout",
     "output_type": "stream",
     "text": [
      "[10 11 12 13 14] ['h', 'e', 'l', 'l', 'o']\n",
      "{'A': array([10, 11, 12, 13, 14]), 'B': ['h', 'e', 'l', 'l', 'o']}\n",
      "    A  B\n",
      "0  10  h\n",
      "1  11  e\n",
      "2  12  l\n",
      "3  13  l\n",
      "4  14  o\n"
     ]
    }
   ],
   "source": [
    "# Not what I was expection.  \n",
    "# Don't transpose yet. Then use dictionary  \n",
    "A = np.arange(10, 15, 1)\n",
    "B = ['h', 'e', 'l', 'l', 'o']\n",
    "print(A, B)\n",
    "data = {'A': A, 'B': B}\n",
    "print(data)\n",
    "\n",
    "df2 = pd.DataFrame(data)\n",
    "print(df2)\n",
    "#  WOW!  That actually worked.  \n",
    "#  I need to breakt it into 2 steps, define data as a dictionary item, \n",
    "#  then add data to DataFrame.  Keeps column names from dictionary keys.  \n",
    "\n",
    "# I guess I could do it in one-step, since I don't need to transpose.  \n",
    "# Better practice to do it in 2-steps.  "
   ]
  }
 ],
 "metadata": {
  "colab": {
   "authorship_tag": "ABX9TyNIJJxc0Gd9nd6I4MYHdXU1",
   "include_colab_link": true,
   "name": "pandas3.T.ipynb",
   "provenance": []
  },
  "kernelspec": {
   "display_name": "Python 3",
   "language": "python",
   "name": "python3"
  },
  "language_info": {
   "codemirror_mode": {
    "name": "ipython",
    "version": 3
   },
   "file_extension": ".py",
   "mimetype": "text/x-python",
   "name": "python",
   "nbconvert_exporter": "python",
   "pygments_lexer": "ipython3",
   "version": "3.9.5"
  }
 },
 "nbformat": 4,
 "nbformat_minor": 1
}
