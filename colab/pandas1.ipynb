{
  "nbformat": 4,
  "nbformat_minor": 0,
  "metadata": {
    "colab": {
      "name": "pandas1.ipynb",
      "provenance": [],
      "collapsed_sections": [],
      "authorship_tag": "ABX9TyPxRv7y1J/fVGJA7/abkAO1",
      "include_colab_link": true
    },
    "kernelspec": {
      "name": "python3",
      "display_name": "Python 3"
    },
    "language_info": {
      "name": "python"
    }
  },
  "cells": [
    {
      "cell_type": "markdown",
      "metadata": {
        "id": "view-in-github",
        "colab_type": "text"
      },
      "source": [
        "<a href=\"https://colab.research.google.com/github/JennEYoon/code/blob/main/current/pandas1.ipynb\" target=\"_parent\"><img src=\"https://colab.research.google.com/assets/colab-badge.svg\" alt=\"Open In Colab\"/></a>"
      ]
    },
    {
      "cell_type": "markdown",
      "source": [
        "# Pandas 1 quick exercise  \n",
        "file location: github \"code\" repo, \"current\" folder, pandas1.ipynb  \n",
        "Date: Jan 13, 2022 3pm start, 4:20pm end    \n",
        "Previous, Jan 10, 2022 state problem. "
      ],
      "metadata": {
        "id": "G9mFxMc4A09E"
      }
    },
    {
      "cell_type": "code",
      "source": [
        "# Quick exercise, pandas library  \n",
        "# Jan 10, 2022 6:40 am  \n",
        "# Jan 13, 2022 3pm, run on Colab test  \n",
        "\n",
        "import numpy as np\n",
        "import pandas as pd  \n",
        "import random  "
      ],
      "metadata": {
        "id": "NV_xdX1uA1lW"
      },
      "execution_count": 2,
      "outputs": []
    },
    {
      "cell_type": "code",
      "source": [
        ""
      ],
      "metadata": {
        "id": "1ZT81TGxA1n7"
      },
      "execution_count": null,
      "outputs": []
    },
    {
      "cell_type": "code",
      "source": [
        "names = [\"helen\", \"mary\", \"jane\", \"tom\", \"philippe\", \"craig\"]\n",
        "ids = np.arange(1000, 1006, 1)\n",
        "print(names, len(names), type(names))\n",
        "print(ids, len(ids), type(ids))\n",
        "#ids = list(ids)  # change type, needed?  \n",
        "# convert to use zip and list, else dataframe directly accepts ndarray type.  \n",
        "      \n",
        "# df1 = pd.dataframe(data=[names, ids], cols=(\"names\", \"idnum\"))\n",
        "df1 = pd.DataFrame(list(zip(ids, names)), columns=[\"id\", \"name\"])      \n",
        "print(df1.head(6))\n",
        "\n",
        "# works, with 2 typos.  \n",
        "# Run without converting ids to list type? zip will not work ?\n",
        "# No, it worked. Zip accepts 2 different type, list and ndarray.  "
      ],
      "metadata": {
        "colab": {
          "base_uri": "https://localhost:8080/"
        },
        "id": "MiVTLV0kA1qy",
        "outputId": "347694d3-b268-4727-aa06-c80748a49ddb"
      },
      "execution_count": 10,
      "outputs": [
        {
          "output_type": "stream",
          "name": "stdout",
          "text": [
            "['helen', 'mary', 'jane', 'tom', 'philippe', 'craig'] 6 <class 'list'>\n",
            "[1000 1001 1002 1003 1004 1005] 6 <class 'numpy.ndarray'>\n",
            "     id      name\n",
            "0  1000     helen\n",
            "1  1001      mary\n",
            "2  1002      jane\n",
            "3  1003       tom\n",
            "4  1004  philippe\n",
            "5  1005     craig\n"
          ]
        }
      ]
    },
    {
      "cell_type": "code",
      "source": [
        "#Try with data = []\n",
        "df2 = pd.DataFrame(data=[names, ids])\n",
        "print(df2.head(6))\n",
        "# Surprosingly that worked, but was transposed.  "
      ],
      "metadata": {
        "colab": {
          "base_uri": "https://localhost:8080/"
        },
        "id": "kEx_ZljZA1tg",
        "outputId": "e8659317-e10a-4877-c240-285f93b8c257"
      },
      "execution_count": 11,
      "outputs": [
        {
          "output_type": "stream",
          "name": "stdout",
          "text": [
            "       0     1     2     3         4      5\n",
            "0  helen  mary  jane   tom  philippe  craig\n",
            "1   1000  1001  1002  1003      1004   1005\n"
          ]
        }
      ]
    },
    {
      "cell_type": "code",
      "source": [
        "# try creating df by using one col, then adding second col.     \n",
        "ids = np.arange(10, 16, 1)\n",
        "names = [\"apple\", \"nvedia\", \"google\", \"microsoft\", \"tesla\", \"netflix\"]\n",
        "df3 = pd.DataFrame(data=names, index=ids, columns=['names'])\n",
        "print(\"df3 \\n\", df3.head())\n",
        "\n",
        "# define a new df column, auto-append to last column.  \n",
        "df3['ids'] = ids \n",
        "print(\"\\nappend col, df3 \\n\", df3.head())\n"
      ],
      "metadata": {
        "colab": {
          "base_uri": "https://localhost:8080/"
        },
        "id": "CiLK1HRXA1wG",
        "outputId": "8bc57e70-f19d-4831-8fe5-5dab636e0ccc"
      },
      "execution_count": 23,
      "outputs": [
        {
          "output_type": "stream",
          "name": "stdout",
          "text": [
            "df3 \n",
            "         names\n",
            "10      apple\n",
            "11     nvedia\n",
            "12     google\n",
            "13  microsoft\n",
            "14      tesla\n",
            "\n",
            "append col, df3 \n",
            "         names  ids\n",
            "10      apple   10\n",
            "11     nvedia   11\n",
            "12     google   12\n",
            "13  microsoft   13\n",
            "14      tesla   14\n"
          ]
        }
      ]
    },
    {
      "cell_type": "code",
      "source": [
        "# Use insertion method, can specify column location, not only at end.  \n",
        "# ex: df.insert(2, \"Age\", [21, 23, 24, 21], True)\n",
        "\n",
        "df3.insert(1, \"Price\", [10.3, 21.5, 33.0, 15.2, 8.21, 32.6], True)\n",
        "print(\"df3 insert\\n\", df3.head(6))"
      ],
      "metadata": {
        "colab": {
          "base_uri": "https://localhost:8080/"
        },
        "id": "BmYve1pvA1y9",
        "outputId": "d42a2aaa-71c8-4462-f149-e8fe02a82938"
      },
      "execution_count": 24,
      "outputs": [
        {
          "output_type": "stream",
          "name": "stdout",
          "text": [
            "df3 insert\n",
            "         names  Price  ids\n",
            "10      apple  10.30   10\n",
            "11     nvedia  21.50   11\n",
            "12     google  33.00   12\n",
            "13  microsoft  15.20   13\n",
            "14      tesla   8.21   14\n",
            "15    netflix  32.60   15\n"
          ]
        }
      ]
    },
    {
      "cell_type": "code",
      "source": [
        "# get price of tesla  ?  \n",
        "# ex: df.at[4, 'b'], access single value using row-column pair\n",
        "result = df3.at[14, 'Price']\n",
        "print(result)\n",
        "\n",
        "# Select row where name = \"tesla\", then return price column value \n",
        "# ex: df.loc[df['B'] == 3, 'A'].item()\n",
        "result2 = df3.loc[df3['names'] == 'tesla', 'Price'].item()\n",
        "print(result2)\n",
        "\n",
        "# get the price of google  \n",
        "result3 = df3.at[12, 'Price']\n",
        "print(result3)\n",
        "result4 = df3.loc[df3['names'] == 'google', 'Price']\n",
        "print(result4.item())"
      ],
      "metadata": {
        "colab": {
          "base_uri": "https://localhost:8080/"
        },
        "id": "1RpIdeFeA11_",
        "outputId": "8bd6053c-8483-498c-a5da-1ae0a521ca7d"
      },
      "execution_count": 35,
      "outputs": [
        {
          "output_type": "stream",
          "name": "stdout",
          "text": [
            "8.21\n",
            "8.21\n",
            "33.0\n",
            "33.0\n"
          ]
        }
      ]
    },
    {
      "cell_type": "code",
      "source": [
        "\n",
        "\n",
        "      \n",
        "      \n",
        "      \n",
        "# print all names \n",
        "      \n",
        "      \n",
        "# add sex column  \n",
        "      \n",
        "      \n",
        "      \n",
        "# print all male data rows  "
      ],
      "metadata": {
        "id": "XbUhXzhcA15W"
      },
      "execution_count": null,
      "outputs": []
    },
    {
      "cell_type": "code",
      "source": [
        ""
      ],
      "metadata": {
        "id": "pB3INLWrA18Z"
      },
      "execution_count": null,
      "outputs": []
    },
    {
      "cell_type": "code",
      "source": [
        ""
      ],
      "metadata": {
        "id": "_D-jzC4pA1_x"
      },
      "execution_count": null,
      "outputs": []
    },
    {
      "cell_type": "code",
      "source": [
        ""
      ],
      "metadata": {
        "id": "Nc_gV0tZA2DB"
      },
      "execution_count": null,
      "outputs": []
    },
    {
      "cell_type": "code",
      "source": [
        ""
      ],
      "metadata": {
        "id": "3YKCOHltA2GZ"
      },
      "execution_count": null,
      "outputs": []
    }
  ]
}