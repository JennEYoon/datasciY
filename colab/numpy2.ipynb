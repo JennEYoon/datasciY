{
 "cells": [
  {
   "cell_type": "markdown",
   "id": "thrown-blame",
   "metadata": {},
   "source": [
    "# Quick review Numpy  \n",
    "file:  numpy2.ipynb copy to learn-ml repo  \n",
    "date:  Dec 10, 2021 10:45 am  \n"
   ]
  },
  {
   "cell_type": "code",
   "execution_count": 3,
   "id": "russian-desert",
   "metadata": {},
   "outputs": [
    {
     "name": "stdout",
     "output_type": "stream",
     "text": [
      "Two arrays formed using np.array and np.arange =  [5 6 7 8 9] [ 0  3  6  9 12]\n",
      "data type A = <class 'numpy.ndarray'> data type B = <class 'numpy.ndarray'>\n"
     ]
    }
   ],
   "source": [
    "import numpy as np  \n",
    "\n",
    "A = np.array([5, 6, 7, 8, 9])\n",
    "B = np.arange(0, 15, 3)  \n",
    "\n",
    "print(\"Two arrays formed using np.array and np.arange = \", A, B)\n",
    "print(\"data type A =\", type(A), \"data type B =\", type(B))"
   ]
  },
  {
   "cell_type": "code",
   "execution_count": 29,
   "id": "comfortable-biotechnology",
   "metadata": {},
   "outputs": [],
   "source": [
    "# create test1\n",
    "def test1(A, B):\n",
    "    # expect A = [5, 6, 7, 8, 9], dtype = ndarray\n",
    "    print(\"Test A type, A data\")\n",
    "    print(\"A type match = \", type(A)==np.ndarray)\n",
    "    print(\"A data match = \", list(A)==[5, 6, 7, 8, 9])\n",
    "    # expect B = [0, 3, 6, 9, 12], dtype = ndarray\n",
    "    print(\"\\nTest B type, B data\")\n",
    "    print(\"B type match = \", type(B)==np.ndarray) \n",
    "    print(\"B data match = \", list(B)==[0, 3, 6, 9, 12])  \n"
   ]
  },
  {
   "cell_type": "code",
   "execution_count": 30,
   "id": "fluid-screw",
   "metadata": {},
   "outputs": [
    {
     "name": "stdout",
     "output_type": "stream",
     "text": [
      "Test A type, A data\n",
      "A type match =  True\n",
      "A data match =  True\n",
      "\n",
      "Test B type, B data\n",
      "B type match =  True\n",
      "B data match =  True\n",
      "\n",
      "test1 finished\n"
     ]
    }
   ],
   "source": [
    "# run test1  \n",
    "test1(A, B)  \n",
    "print(\"\\ntest1 finished\")"
   ]
  },
  {
   "cell_type": "code",
   "execution_count": null,
   "id": "known-edwards",
   "metadata": {},
   "outputs": [],
   "source": []
  },
  {
   "cell_type": "code",
   "execution_count": null,
   "id": "everyday-girlfriend",
   "metadata": {},
   "outputs": [],
   "source": []
  },
  {
   "cell_type": "code",
   "execution_count": null,
   "id": "blessed-intro",
   "metadata": {},
   "outputs": [],
   "source": []
  }
 ],
 "metadata": {
  "kernelspec": {
   "display_name": "Python [conda env:fastai20] *",
   "language": "python",
   "name": "conda-env-fastai20-py"
  },
  "language_info": {
   "codemirror_mode": {
    "name": "ipython",
    "version": 3
   },
   "file_extension": ".py",
   "mimetype": "text/x-python",
   "name": "python",
   "nbconvert_exporter": "python",
   "pygments_lexer": "ipython3",
   "version": "3.6.10"
  }
 },
 "nbformat": 4,
 "nbformat_minor": 5
}
